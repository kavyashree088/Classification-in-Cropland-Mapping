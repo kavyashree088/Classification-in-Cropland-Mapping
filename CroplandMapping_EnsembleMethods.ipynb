{
  "nbformat": 4,
  "nbformat_minor": 0,
  "metadata": {
    "accelerator": "GPU",
    "colab": {
      "name": "CMPE255_CropMapping_EnsembleMethod.ipynb",
      "provenance": [],
      "collapsed_sections": [],
      "toc_visible": true,
      "machine_shape": "hm"
    },
    "kernelspec": {
      "display_name": "Python 3",
      "language": "python",
      "name": "python3"
    },
    "language_info": {
      "codemirror_mode": {
        "name": "ipython",
        "version": 3
      },
      "file_extension": ".py",
      "mimetype": "text/x-python",
      "name": "python",
      "nbconvert_exporter": "python",
      "pygments_lexer": "ipython3",
      "version": "3.7.4"
    }
  },
  "cells": [
    {
      "cell_type": "markdown",
      "metadata": {
        "id": "3DZXBS6ayF6W"
      },
      "source": [
        "## [CMPE255] Group Project: Cropland Classification\n",
        "\n",
        "####  Group3 \n",
        "Baijun Jian (013723034), Karen Lee (014521052), Kavyashree Chandrashekar (013856518)\n",
        "#### Dataset\n",
        "UCI Crop mapping using fused optical-radar dataset:\n",
        "https://archive.ics.uci.edu/ml/datasets/Crop+mapping+using+fused+optical-radar+data+set"
      ]
    },
    {
      "cell_type": "code",
      "metadata": {
        "colab": {
          "base_uri": "https://localhost:8080/"
        },
        "id": "ASJ0HSiz4VZY",
        "outputId": "f06cc7ec-1885-4d5d-fce2-79d5eb97c609"
      },
      "source": [
        "#!/usr/local/cuda/bin/nvcc --version\n",
        "#!nvidia-smi"
      ],
      "execution_count": null,
      "outputs": [
        {
          "output_type": "stream",
          "text": [
            "nvcc: NVIDIA (R) Cuda compiler driver\n",
            "Copyright (c) 2005-2019 NVIDIA Corporation\n",
            "Built on Sun_Jul_28_19:07:16_PDT_2019\n",
            "Cuda compilation tools, release 10.1, V10.1.243\n",
            "Mon Nov 30 02:31:34 2020       \n",
            "+-----------------------------------------------------------------------------+\n",
            "| NVIDIA-SMI 455.38       Driver Version: 418.67       CUDA Version: 10.1     |\n",
            "|-------------------------------+----------------------+----------------------+\n",
            "| GPU  Name        Persistence-M| Bus-Id        Disp.A | Volatile Uncorr. ECC |\n",
            "| Fan  Temp  Perf  Pwr:Usage/Cap|         Memory-Usage | GPU-Util  Compute M. |\n",
            "|                               |                      |               MIG M. |\n",
            "|===============================+======================+======================|\n",
            "|   0  Tesla V100-SXM2...  Off  | 00000000:00:04.0 Off |                    0 |\n",
            "| N/A   35C    P0    25W / 300W |      0MiB / 16130MiB |      0%      Default |\n",
            "|                               |                      |                 ERR! |\n",
            "+-------------------------------+----------------------+----------------------+\n",
            "                                                                               \n",
            "+-----------------------------------------------------------------------------+\n",
            "| Processes:                                                                  |\n",
            "|  GPU   GI   CI        PID   Type   Process name                  GPU Memory |\n",
            "|        ID   ID                                                   Usage      |\n",
            "|=============================================================================|\n",
            "|  No running processes found                                                 |\n",
            "+-----------------------------------------------------------------------------+\n"
          ],
          "name": "stdout"
        }
      ]
    },
    {
      "cell_type": "code",
      "metadata": {
        "colab": {
          "base_uri": "https://localhost:8080/"
        },
        "id": "vOT9dTzq5rDu",
        "outputId": "548c2a9b-eac5-4f10-e54e-220d3477454c"
      },
      "source": [
        "#import tensorflow as tf \n",
        "#device_name = tf.test.gpu_device_name()\n",
        "#if device_name != '/device:GPU:0':\n",
        "#  raise SystemError('GPU device not found')\n",
        "#print('Found GPU at: {}'.format(device_name))"
      ],
      "execution_count": null,
      "outputs": [
        {
          "output_type": "stream",
          "text": [
            "Found GPU at: /device:GPU:0\n"
          ],
          "name": "stdout"
        }
      ]
    },
    {
      "cell_type": "code",
      "metadata": {
        "id": "Pb-lh6ivyF6W"
      },
      "source": [
        "import warnings\n",
        "warnings.filterwarnings('ignore')\n",
        "warnings.simplefilter('ignore')"
      ],
      "execution_count": null,
      "outputs": []
    },
    {
      "cell_type": "code",
      "metadata": {
        "id": "zsU9kELxyF6W"
      },
      "source": [
        "import numpy as np\n",
        "import pandas as pd\n",
        "import seaborn as sns\n",
        "import matplotlib.pyplot as plt\n",
        "\n",
        "%matplotlib inline"
      ],
      "execution_count": null,
      "outputs": []
    },
    {
      "cell_type": "markdown",
      "metadata": {
        "id": "HPRGsKtNyF6X"
      },
      "source": [
        "### Load Dataset"
      ]
    },
    {
      "cell_type": "code",
      "metadata": {
        "colab": {
          "base_uri": "https://localhost:8080/"
        },
        "id": "0gdEFxwRyr0V",
        "outputId": "123bd425-0fa6-49d4-f3d0-e1a82e49075b"
      },
      "source": [
        "# Download it using wget (Linux) or manually download it and place on the same folder as this notebook\n",
        "!wget https://archive.ics.uci.edu/ml/machine-learning-databases/00525/data.zip"
      ],
      "execution_count": null,
      "outputs": [
        {
          "output_type": "stream",
          "text": [
            "--2020-11-30 02:31:56--  https://archive.ics.uci.edu/ml/machine-learning-databases/00525/data.zip\n",
            "Resolving archive.ics.uci.edu (archive.ics.uci.edu)... 128.195.10.252\n",
            "Connecting to archive.ics.uci.edu (archive.ics.uci.edu)|128.195.10.252|:443... connected.\n",
            "HTTP request sent, awaiting response... 200 OK\n",
            "Length: 158060686 (151M) [application/x-httpd-php]\n",
            "Saving to: ‘data.zip’\n",
            "\n",
            "data.zip            100%[===================>] 150.74M  19.8MB/s    in 8.7s    \n",
            "\n",
            "2020-11-30 02:32:06 (17.4 MB/s) - ‘data.zip’ saved [158060686/158060686]\n",
            "\n"
          ],
          "name": "stdout"
        }
      ]
    },
    {
      "cell_type": "code",
      "metadata": {
        "colab": {
          "base_uri": "https://localhost:8080/"
        },
        "id": "Lxl3wOD5z7FE",
        "outputId": "466009d5-7f82-4414-a85c-5ae05df25111"
      },
      "source": [
        "!unzip data.zip"
      ],
      "execution_count": null,
      "outputs": [
        {
          "output_type": "stream",
          "text": [
            "Archive:  data.zip\n",
            "  inflating: WinnipegDataset.txt     \n"
          ],
          "name": "stdout"
        }
      ]
    },
    {
      "cell_type": "code",
      "metadata": {
        "colab": {
          "base_uri": "https://localhost:8080/"
        },
        "id": "YoTfUqNU0QQV",
        "outputId": "4b0ca80e-f358-44e5-ee76-451215534bd9"
      },
      "source": [
        "df = pd.read_csv('./WinnipegDataset.txt', sep=',')\n",
        "df.shape"
      ],
      "execution_count": null,
      "outputs": [
        {
          "output_type": "execute_result",
          "data": {
            "text/plain": [
              "(325834, 175)"
            ]
          },
          "metadata": {
            "tags": []
          },
          "execution_count": 7
        }
      ]
    },
    {
      "cell_type": "markdown",
      "metadata": {
        "id": "R4-cRx1xyF6Y"
      },
      "source": [
        "### Data Exploration"
      ]
    },
    {
      "cell_type": "code",
      "metadata": {
        "colab": {
          "base_uri": "https://localhost:8080/",
          "height": 253
        },
        "id": "2RAoMaxwyF6Y",
        "outputId": "c639596a-5fb4-4a35-dd96-713cff495bee"
      },
      "source": [
        "df.head(5)"
      ],
      "execution_count": null,
      "outputs": [
        {
          "output_type": "execute_result",
          "data": {
            "text/html": [
              "<div>\n",
              "<style scoped>\n",
              "    .dataframe tbody tr th:only-of-type {\n",
              "        vertical-align: middle;\n",
              "    }\n",
              "\n",
              "    .dataframe tbody tr th {\n",
              "        vertical-align: top;\n",
              "    }\n",
              "\n",
              "    .dataframe thead th {\n",
              "        text-align: right;\n",
              "    }\n",
              "</style>\n",
              "<table border=\"1\" class=\"dataframe\">\n",
              "  <thead>\n",
              "    <tr style=\"text-align: right;\">\n",
              "      <th></th>\n",
              "      <th>label</th>\n",
              "      <th>f1</th>\n",
              "      <th>f2</th>\n",
              "      <th>f3</th>\n",
              "      <th>f4</th>\n",
              "      <th>f5</th>\n",
              "      <th>f6</th>\n",
              "      <th>f7</th>\n",
              "      <th>f8</th>\n",
              "      <th>f9</th>\n",
              "      <th>f10</th>\n",
              "      <th>f11</th>\n",
              "      <th>f12</th>\n",
              "      <th>f13</th>\n",
              "      <th>f14</th>\n",
              "      <th>f15</th>\n",
              "      <th>f16</th>\n",
              "      <th>f17</th>\n",
              "      <th>f18</th>\n",
              "      <th>f19</th>\n",
              "      <th>f20</th>\n",
              "      <th>f21</th>\n",
              "      <th>f22</th>\n",
              "      <th>f23</th>\n",
              "      <th>f24</th>\n",
              "      <th>f25</th>\n",
              "      <th>f26</th>\n",
              "      <th>f27</th>\n",
              "      <th>f28</th>\n",
              "      <th>f29</th>\n",
              "      <th>f30</th>\n",
              "      <th>f31</th>\n",
              "      <th>f32</th>\n",
              "      <th>f33</th>\n",
              "      <th>f34</th>\n",
              "      <th>f35</th>\n",
              "      <th>f36</th>\n",
              "      <th>f37</th>\n",
              "      <th>f38</th>\n",
              "      <th>f39</th>\n",
              "      <th>...</th>\n",
              "      <th>f135</th>\n",
              "      <th>f136</th>\n",
              "      <th>f137</th>\n",
              "      <th>f138</th>\n",
              "      <th>f139</th>\n",
              "      <th>f140</th>\n",
              "      <th>f141</th>\n",
              "      <th>f142</th>\n",
              "      <th>f143</th>\n",
              "      <th>f144</th>\n",
              "      <th>f145</th>\n",
              "      <th>f146</th>\n",
              "      <th>f147</th>\n",
              "      <th>f148</th>\n",
              "      <th>f149</th>\n",
              "      <th>f150</th>\n",
              "      <th>f151</th>\n",
              "      <th>f152</th>\n",
              "      <th>f153</th>\n",
              "      <th>f154</th>\n",
              "      <th>f155</th>\n",
              "      <th>f156</th>\n",
              "      <th>f157</th>\n",
              "      <th>f158</th>\n",
              "      <th>f159</th>\n",
              "      <th>f160</th>\n",
              "      <th>f161</th>\n",
              "      <th>f162</th>\n",
              "      <th>f163</th>\n",
              "      <th>f164</th>\n",
              "      <th>f165</th>\n",
              "      <th>f166</th>\n",
              "      <th>f167</th>\n",
              "      <th>f168</th>\n",
              "      <th>f169</th>\n",
              "      <th>f170</th>\n",
              "      <th>f171</th>\n",
              "      <th>f172</th>\n",
              "      <th>f173</th>\n",
              "      <th>f174</th>\n",
              "    </tr>\n",
              "  </thead>\n",
              "  <tbody>\n",
              "    <tr>\n",
              "      <th>0</th>\n",
              "      <td>1</td>\n",
              "      <td>-13.559</td>\n",
              "      <td>-21.407</td>\n",
              "      <td>-11.4040</td>\n",
              "      <td>-15.248</td>\n",
              "      <td>-11.923</td>\n",
              "      <td>-15.291</td>\n",
              "      <td>-2.1548</td>\n",
              "      <td>-7.8474</td>\n",
              "      <td>-10.0020</td>\n",
              "      <td>0.04239</td>\n",
              "      <td>3.3253</td>\n",
              "      <td>3.3677</td>\n",
              "      <td>0.35631</td>\n",
              "      <td>0.058490</td>\n",
              "      <td>0.58520</td>\n",
              "      <td>0.24150</td>\n",
              "      <td>0.51934</td>\n",
              "      <td>0.23916</td>\n",
              "      <td>-0.62424</td>\n",
              "      <td>-0.81493</td>\n",
              "      <td>-0.70844</td>\n",
              "      <td>-0.65641</td>\n",
              "      <td>-0.19568</td>\n",
              "      <td>-0.63160</td>\n",
              "      <td>0.091945</td>\n",
              "      <td>0.026703</td>\n",
              "      <td>0.005017</td>\n",
              "      <td>0.62019</td>\n",
              "      <td>0.68370</td>\n",
              "      <td>44.369</td>\n",
              "      <td>0.42402</td>\n",
              "      <td>0.19617</td>\n",
              "      <td>0.25967</td>\n",
              "      <td>0.12013</td>\n",
              "      <td>0.054561</td>\n",
              "      <td>0.16226</td>\n",
              "      <td>-11.923</td>\n",
              "      <td>-12.823</td>\n",
              "      <td>-21.407</td>\n",
              "      <td>...</td>\n",
              "      <td>0.13580</td>\n",
              "      <td>0.650770</td>\n",
              "      <td>6711</td>\n",
              "      <td>6143</td>\n",
              "      <td>4570</td>\n",
              "      <td>5064</td>\n",
              "      <td>8212</td>\n",
              "      <td>0.28493</td>\n",
              "      <td>1.7969</td>\n",
              "      <td>1.3442</td>\n",
              "      <td>-0.61941</td>\n",
              "      <td>0.54346</td>\n",
              "      <td>0.42738</td>\n",
              "      <td>0.14683</td>\n",
              "      <td>0.144130</td>\n",
              "      <td>0.58593</td>\n",
              "      <td>0.23712</td>\n",
              "      <td>1.6216</td>\n",
              "      <td>0.23712</td>\n",
              "      <td>294110.0</td>\n",
              "      <td>0.051277</td>\n",
              "      <td>2199.4</td>\n",
              "      <td>92560.0</td>\n",
              "      <td>1.1081</td>\n",
              "      <td>48.444</td>\n",
              "      <td>3.13580</td>\n",
              "      <td>0.57778</td>\n",
              "      <td>2.44440</td>\n",
              "      <td>1.11110</td>\n",
              "      <td>1.8310</td>\n",
              "      <td>0.18519</td>\n",
              "      <td>0.72602</td>\n",
              "      <td>5.3333</td>\n",
              "      <td>6.000000</td>\n",
              "      <td>0.29489</td>\n",
              "      <td>9.77780</td>\n",
              "      <td>2.44440</td>\n",
              "      <td>1.67700</td>\n",
              "      <td>0.20988</td>\n",
              "      <td>0.65422</td>\n",
              "    </tr>\n",
              "    <tr>\n",
              "      <th>1</th>\n",
              "      <td>1</td>\n",
              "      <td>-12.802</td>\n",
              "      <td>-20.335</td>\n",
              "      <td>-10.3990</td>\n",
              "      <td>-14.132</td>\n",
              "      <td>-11.096</td>\n",
              "      <td>-14.361</td>\n",
              "      <td>-2.4039</td>\n",
              "      <td>-7.5330</td>\n",
              "      <td>-9.9369</td>\n",
              "      <td>0.22842</td>\n",
              "      <td>3.0360</td>\n",
              "      <td>3.2644</td>\n",
              "      <td>0.34295</td>\n",
              "      <td>0.060525</td>\n",
              "      <td>0.59652</td>\n",
              "      <td>0.25249</td>\n",
              "      <td>0.50796</td>\n",
              "      <td>0.23955</td>\n",
              "      <td>-0.57229</td>\n",
              "      <td>-0.74854</td>\n",
              "      <td>-0.64839</td>\n",
              "      <td>-0.62810</td>\n",
              "      <td>-0.18825</td>\n",
              "      <td>-0.55448</td>\n",
              "      <td>0.115710</td>\n",
              "      <td>0.031183</td>\n",
              "      <td>0.006051</td>\n",
              "      <td>0.60356</td>\n",
              "      <td>0.67496</td>\n",
              "      <td>44.992</td>\n",
              "      <td>0.40738</td>\n",
              "      <td>0.19618</td>\n",
              "      <td>0.26758</td>\n",
              "      <td>0.12886</td>\n",
              "      <td>0.052298</td>\n",
              "      <td>0.15826</td>\n",
              "      <td>-11.096</td>\n",
              "      <td>-11.805</td>\n",
              "      <td>-20.335</td>\n",
              "      <td>...</td>\n",
              "      <td>0.30864</td>\n",
              "      <td>0.104830</td>\n",
              "      <td>6274</td>\n",
              "      <td>5084</td>\n",
              "      <td>3297</td>\n",
              "      <td>3777</td>\n",
              "      <td>8214</td>\n",
              "      <td>0.42716</td>\n",
              "      <td>2.4914</td>\n",
              "      <td>1.5420</td>\n",
              "      <td>-0.64500</td>\n",
              "      <td>0.92501</td>\n",
              "      <td>0.64071</td>\n",
              "      <td>0.21322</td>\n",
              "      <td>0.235370</td>\n",
              "      <td>0.75089</td>\n",
              "      <td>0.37003</td>\n",
              "      <td>2.1747</td>\n",
              "      <td>0.37003</td>\n",
              "      <td>412400.0</td>\n",
              "      <td>0.067854</td>\n",
              "      <td>2338.4</td>\n",
              "      <td>100280.0</td>\n",
              "      <td>1.1456</td>\n",
              "      <td>49.778</td>\n",
              "      <td>0.39506</td>\n",
              "      <td>0.46667</td>\n",
              "      <td>1.33330</td>\n",
              "      <td>1.11110</td>\n",
              "      <td>1.2149</td>\n",
              "      <td>0.33333</td>\n",
              "      <td>-0.48751</td>\n",
              "      <td>2.1111</td>\n",
              "      <td>0.098765</td>\n",
              "      <td>0.83333</td>\n",
              "      <td>0.33333</td>\n",
              "      <td>0.33333</td>\n",
              "      <td>0.84869</td>\n",
              "      <td>0.50617</td>\n",
              "      <td>-0.18898</td>\n",
              "    </tr>\n",
              "    <tr>\n",
              "      <th>2</th>\n",
              "      <td>1</td>\n",
              "      <td>-12.431</td>\n",
              "      <td>-19.902</td>\n",
              "      <td>-10.0740</td>\n",
              "      <td>-13.598</td>\n",
              "      <td>-10.829</td>\n",
              "      <td>-14.048</td>\n",
              "      <td>-2.3566</td>\n",
              "      <td>-7.4717</td>\n",
              "      <td>-9.8283</td>\n",
              "      <td>0.44978</td>\n",
              "      <td>2.7687</td>\n",
              "      <td>3.2185</td>\n",
              "      <td>0.34489</td>\n",
              "      <td>0.061731</td>\n",
              "      <td>0.59338</td>\n",
              "      <td>0.26362</td>\n",
              "      <td>0.49870</td>\n",
              "      <td>0.23768</td>\n",
              "      <td>-0.53347</td>\n",
              "      <td>-0.70253</td>\n",
              "      <td>-0.58846</td>\n",
              "      <td>-0.61836</td>\n",
              "      <td>-0.17804</td>\n",
              "      <td>-0.48642</td>\n",
              "      <td>0.127130</td>\n",
              "      <td>0.032382</td>\n",
              "      <td>0.006162</td>\n",
              "      <td>0.58683</td>\n",
              "      <td>0.68024</td>\n",
              "      <td>45.466</td>\n",
              "      <td>0.39919</td>\n",
              "      <td>0.18764</td>\n",
              "      <td>0.28105</td>\n",
              "      <td>0.13211</td>\n",
              "      <td>0.048473</td>\n",
              "      <td>0.14878</td>\n",
              "      <td>-10.829</td>\n",
              "      <td>-11.377</td>\n",
              "      <td>-19.902</td>\n",
              "      <td>...</td>\n",
              "      <td>0.30864</td>\n",
              "      <td>0.613940</td>\n",
              "      <td>6215</td>\n",
              "      <td>5035</td>\n",
              "      <td>3033</td>\n",
              "      <td>3837</td>\n",
              "      <td>8588</td>\n",
              "      <td>0.47801</td>\n",
              "      <td>2.8315</td>\n",
              "      <td>1.6601</td>\n",
              "      <td>-0.70049</td>\n",
              "      <td>1.03530</td>\n",
              "      <td>0.71699</td>\n",
              "      <td>0.24814</td>\n",
              "      <td>0.260810</td>\n",
              "      <td>0.80946</td>\n",
              "      <td>0.38237</td>\n",
              "      <td>2.2382</td>\n",
              "      <td>0.38237</td>\n",
              "      <td>439570.0</td>\n",
              "      <td>0.117030</td>\n",
              "      <td>3321.3</td>\n",
              "      <td>128320.0</td>\n",
              "      <td>1.2651</td>\n",
              "      <td>49.444</td>\n",
              "      <td>0.24691</td>\n",
              "      <td>0.61111</td>\n",
              "      <td>0.77778</td>\n",
              "      <td>0.77778</td>\n",
              "      <td>1.3689</td>\n",
              "      <td>0.25926</td>\n",
              "      <td>0.25298</td>\n",
              "      <td>2.2222</td>\n",
              "      <td>0.172840</td>\n",
              "      <td>0.68889</td>\n",
              "      <td>0.88889</td>\n",
              "      <td>0.66667</td>\n",
              "      <td>1.27300</td>\n",
              "      <td>0.30864</td>\n",
              "      <td>0.10483</td>\n",
              "    </tr>\n",
              "    <tr>\n",
              "      <th>3</th>\n",
              "      <td>1</td>\n",
              "      <td>-12.689</td>\n",
              "      <td>-19.529</td>\n",
              "      <td>-10.0280</td>\n",
              "      <td>-13.350</td>\n",
              "      <td>-11.056</td>\n",
              "      <td>-14.014</td>\n",
              "      <td>-2.6611</td>\n",
              "      <td>-6.8396</td>\n",
              "      <td>-9.5006</td>\n",
              "      <td>0.66378</td>\n",
              "      <td>2.2942</td>\n",
              "      <td>2.9580</td>\n",
              "      <td>0.32760</td>\n",
              "      <td>0.067825</td>\n",
              "      <td>0.60457</td>\n",
              "      <td>0.28135</td>\n",
              "      <td>0.47717</td>\n",
              "      <td>0.24148</td>\n",
              "      <td>-0.50405</td>\n",
              "      <td>-0.66998</td>\n",
              "      <td>-0.52543</td>\n",
              "      <td>-0.61169</td>\n",
              "      <td>-0.17507</td>\n",
              "      <td>-0.43576</td>\n",
              "      <td>0.127200</td>\n",
              "      <td>0.031091</td>\n",
              "      <td>0.006040</td>\n",
              "      <td>0.57769</td>\n",
              "      <td>0.67468</td>\n",
              "      <td>46.654</td>\n",
              "      <td>0.38976</td>\n",
              "      <td>0.18793</td>\n",
              "      <td>0.28492</td>\n",
              "      <td>0.13738</td>\n",
              "      <td>0.047480</td>\n",
              "      <td>0.14701</td>\n",
              "      <td>-11.056</td>\n",
              "      <td>-11.263</td>\n",
              "      <td>-19.529</td>\n",
              "      <td>...</td>\n",
              "      <td>0.16049</td>\n",
              "      <td>0.064018</td>\n",
              "      <td>6836</td>\n",
              "      <td>5745</td>\n",
              "      <td>4212</td>\n",
              "      <td>4534</td>\n",
              "      <td>7691</td>\n",
              "      <td>0.29228</td>\n",
              "      <td>1.8260</td>\n",
              "      <td>1.3640</td>\n",
              "      <td>-0.47512</td>\n",
              "      <td>0.65772</td>\n",
              "      <td>0.43840</td>\n",
              "      <td>0.15396</td>\n",
              "      <td>0.144830</td>\n",
              "      <td>0.60147</td>\n",
              "      <td>0.25824</td>\n",
              "      <td>1.6963</td>\n",
              "      <td>0.25824</td>\n",
              "      <td>296240.0</td>\n",
              "      <td>0.036817</td>\n",
              "      <td>1748.1</td>\n",
              "      <td>80640.0</td>\n",
              "      <td>1.0764</td>\n",
              "      <td>50.667</td>\n",
              "      <td>0.88889</td>\n",
              "      <td>0.61111</td>\n",
              "      <td>0.77778</td>\n",
              "      <td>0.77778</td>\n",
              "      <td>1.8892</td>\n",
              "      <td>0.16049</td>\n",
              "      <td>0.43750</td>\n",
              "      <td>4.1111</td>\n",
              "      <td>0.320990</td>\n",
              "      <td>0.83333</td>\n",
              "      <td>0.33333</td>\n",
              "      <td>0.33333</td>\n",
              "      <td>1.14910</td>\n",
              "      <td>0.38272</td>\n",
              "      <td>0.41603</td>\n",
              "    </tr>\n",
              "    <tr>\n",
              "      <th>4</th>\n",
              "      <td>1</td>\n",
              "      <td>-12.686</td>\n",
              "      <td>-19.278</td>\n",
              "      <td>-9.8185</td>\n",
              "      <td>-13.108</td>\n",
              "      <td>-10.932</td>\n",
              "      <td>-13.939</td>\n",
              "      <td>-2.8675</td>\n",
              "      <td>-6.5919</td>\n",
              "      <td>-9.4594</td>\n",
              "      <td>0.83143</td>\n",
              "      <td>2.1756</td>\n",
              "      <td>3.0070</td>\n",
              "      <td>0.31701</td>\n",
              "      <td>0.069483</td>\n",
              "      <td>0.61351</td>\n",
              "      <td>0.28768</td>\n",
              "      <td>0.47476</td>\n",
              "      <td>0.23756</td>\n",
              "      <td>-0.50314</td>\n",
              "      <td>-0.68221</td>\n",
              "      <td>-0.50731</td>\n",
              "      <td>-0.59134</td>\n",
              "      <td>-0.17505</td>\n",
              "      <td>-0.45195</td>\n",
              "      <td>0.131550</td>\n",
              "      <td>0.031960</td>\n",
              "      <td>0.006439</td>\n",
              "      <td>0.57937</td>\n",
              "      <td>0.66460</td>\n",
              "      <td>46.828</td>\n",
              "      <td>0.38505</td>\n",
              "      <td>0.19432</td>\n",
              "      <td>0.27955</td>\n",
              "      <td>0.14108</td>\n",
              "      <td>0.048950</td>\n",
              "      <td>0.15156</td>\n",
              "      <td>-10.932</td>\n",
              "      <td>-11.109</td>\n",
              "      <td>-19.278</td>\n",
              "      <td>...</td>\n",
              "      <td>0.20988</td>\n",
              "      <td>0.657600</td>\n",
              "      <td>6682</td>\n",
              "      <td>5883</td>\n",
              "      <td>4434</td>\n",
              "      <td>4627</td>\n",
              "      <td>7072</td>\n",
              "      <td>0.22927</td>\n",
              "      <td>1.5949</td>\n",
              "      <td>1.3268</td>\n",
              "      <td>-0.40120</td>\n",
              "      <td>0.52776</td>\n",
              "      <td>0.34389</td>\n",
              "      <td>0.14045</td>\n",
              "      <td>0.091779</td>\n",
              "      <td>0.53551</td>\n",
              "      <td>0.20899</td>\n",
              "      <td>1.5284</td>\n",
              "      <td>0.20899</td>\n",
              "      <td>232610.0</td>\n",
              "      <td>0.021300</td>\n",
              "      <td>1365.4</td>\n",
              "      <td>69540.0</td>\n",
              "      <td>1.0435</td>\n",
              "      <td>51.222</td>\n",
              "      <td>0.39506</td>\n",
              "      <td>0.56667</td>\n",
              "      <td>1.66670</td>\n",
              "      <td>1.00000</td>\n",
              "      <td>1.7351</td>\n",
              "      <td>0.18519</td>\n",
              "      <td>0.35000</td>\n",
              "      <td>4.0000</td>\n",
              "      <td>0.444440</td>\n",
              "      <td>0.68889</td>\n",
              "      <td>0.88889</td>\n",
              "      <td>0.66667</td>\n",
              "      <td>1.58110</td>\n",
              "      <td>0.20988</td>\n",
              "      <td>0.50000</td>\n",
              "    </tr>\n",
              "  </tbody>\n",
              "</table>\n",
              "<p>5 rows × 175 columns</p>\n",
              "</div>"
            ],
            "text/plain": [
              "   label      f1      f2       f3  ...     f171     f172     f173     f174\n",
              "0      1 -13.559 -21.407 -11.4040  ...  2.44440  1.67700  0.20988  0.65422\n",
              "1      1 -12.802 -20.335 -10.3990  ...  0.33333  0.84869  0.50617 -0.18898\n",
              "2      1 -12.431 -19.902 -10.0740  ...  0.66667  1.27300  0.30864  0.10483\n",
              "3      1 -12.689 -19.529 -10.0280  ...  0.33333  1.14910  0.38272  0.41603\n",
              "4      1 -12.686 -19.278  -9.8185  ...  0.66667  1.58110  0.20988  0.50000\n",
              "\n",
              "[5 rows x 175 columns]"
            ]
          },
          "metadata": {
            "tags": []
          },
          "execution_count": 8
        }
      ]
    },
    {
      "cell_type": "code",
      "metadata": {
        "colab": {
          "base_uri": "https://localhost:8080/"
        },
        "id": "Pt7S9XPdyF6Z",
        "outputId": "00151a51-91fa-4fd5-f3ef-e80dcfcfa810"
      },
      "source": [
        "df.info()"
      ],
      "execution_count": null,
      "outputs": [
        {
          "output_type": "stream",
          "text": [
            "<class 'pandas.core.frame.DataFrame'>\n",
            "RangeIndex: 325834 entries, 0 to 325833\n",
            "Columns: 175 entries, label to f174\n",
            "dtypes: float64(169), int64(6)\n",
            "memory usage: 435.0 MB\n"
          ],
          "name": "stdout"
        }
      ]
    },
    {
      "cell_type": "code",
      "metadata": {
        "colab": {
          "base_uri": "https://localhost:8080/",
          "height": 346
        },
        "id": "95PsRhWtyF6a",
        "outputId": "71e8c321-fd66-4af5-c168-282d04c88f2c"
      },
      "source": [
        "df.describe()"
      ],
      "execution_count": null,
      "outputs": [
        {
          "output_type": "execute_result",
          "data": {
            "text/html": [
              "<div>\n",
              "<style scoped>\n",
              "    .dataframe tbody tr th:only-of-type {\n",
              "        vertical-align: middle;\n",
              "    }\n",
              "\n",
              "    .dataframe tbody tr th {\n",
              "        vertical-align: top;\n",
              "    }\n",
              "\n",
              "    .dataframe thead th {\n",
              "        text-align: right;\n",
              "    }\n",
              "</style>\n",
              "<table border=\"1\" class=\"dataframe\">\n",
              "  <thead>\n",
              "    <tr style=\"text-align: right;\">\n",
              "      <th></th>\n",
              "      <th>label</th>\n",
              "      <th>f1</th>\n",
              "      <th>f2</th>\n",
              "      <th>f3</th>\n",
              "      <th>f4</th>\n",
              "      <th>f5</th>\n",
              "      <th>f6</th>\n",
              "      <th>f7</th>\n",
              "      <th>f8</th>\n",
              "      <th>f9</th>\n",
              "      <th>f10</th>\n",
              "      <th>f11</th>\n",
              "      <th>f12</th>\n",
              "      <th>f13</th>\n",
              "      <th>f14</th>\n",
              "      <th>f15</th>\n",
              "      <th>f16</th>\n",
              "      <th>f17</th>\n",
              "      <th>f18</th>\n",
              "      <th>f19</th>\n",
              "      <th>f20</th>\n",
              "      <th>f21</th>\n",
              "      <th>f22</th>\n",
              "      <th>f23</th>\n",
              "      <th>f24</th>\n",
              "      <th>f25</th>\n",
              "      <th>f26</th>\n",
              "      <th>f27</th>\n",
              "      <th>f28</th>\n",
              "      <th>f29</th>\n",
              "      <th>f30</th>\n",
              "      <th>f31</th>\n",
              "      <th>f32</th>\n",
              "      <th>f33</th>\n",
              "      <th>f34</th>\n",
              "      <th>f35</th>\n",
              "      <th>f36</th>\n",
              "      <th>f37</th>\n",
              "      <th>f38</th>\n",
              "      <th>f39</th>\n",
              "      <th>...</th>\n",
              "      <th>f135</th>\n",
              "      <th>f136</th>\n",
              "      <th>f137</th>\n",
              "      <th>f138</th>\n",
              "      <th>f139</th>\n",
              "      <th>f140</th>\n",
              "      <th>f141</th>\n",
              "      <th>f142</th>\n",
              "      <th>f143</th>\n",
              "      <th>f144</th>\n",
              "      <th>f145</th>\n",
              "      <th>f146</th>\n",
              "      <th>f147</th>\n",
              "      <th>f148</th>\n",
              "      <th>f149</th>\n",
              "      <th>f150</th>\n",
              "      <th>f151</th>\n",
              "      <th>f152</th>\n",
              "      <th>f153</th>\n",
              "      <th>f154</th>\n",
              "      <th>f155</th>\n",
              "      <th>f156</th>\n",
              "      <th>f157</th>\n",
              "      <th>f158</th>\n",
              "      <th>f159</th>\n",
              "      <th>f160</th>\n",
              "      <th>f161</th>\n",
              "      <th>f162</th>\n",
              "      <th>f163</th>\n",
              "      <th>f164</th>\n",
              "      <th>f165</th>\n",
              "      <th>f166</th>\n",
              "      <th>f167</th>\n",
              "      <th>f168</th>\n",
              "      <th>f169</th>\n",
              "      <th>f170</th>\n",
              "      <th>f171</th>\n",
              "      <th>f172</th>\n",
              "      <th>f173</th>\n",
              "      <th>f174</th>\n",
              "    </tr>\n",
              "  </thead>\n",
              "  <tbody>\n",
              "    <tr>\n",
              "      <th>count</th>\n",
              "      <td>325834.000000</td>\n",
              "      <td>325834.000000</td>\n",
              "      <td>325834.000000</td>\n",
              "      <td>325834.000000</td>\n",
              "      <td>325834.00000</td>\n",
              "      <td>325834.000000</td>\n",
              "      <td>325834.000000</td>\n",
              "      <td>325834.000000</td>\n",
              "      <td>325834.000000</td>\n",
              "      <td>325834.000000</td>\n",
              "      <td>325834.000000</td>\n",
              "      <td>325834.000000</td>\n",
              "      <td>325834.000000</td>\n",
              "      <td>325834.000000</td>\n",
              "      <td>325834.000000</td>\n",
              "      <td>325834.000000</td>\n",
              "      <td>325834.000000</td>\n",
              "      <td>325834.000000</td>\n",
              "      <td>325834.000000</td>\n",
              "      <td>325834.000000</td>\n",
              "      <td>325834.000000</td>\n",
              "      <td>325834.000000</td>\n",
              "      <td>325834.000000</td>\n",
              "      <td>325834.000000</td>\n",
              "      <td>325834.000000</td>\n",
              "      <td>325834.000000</td>\n",
              "      <td>325834.000000</td>\n",
              "      <td>325834.000000</td>\n",
              "      <td>325834.000000</td>\n",
              "      <td>325834.000000</td>\n",
              "      <td>325834.000000</td>\n",
              "      <td>325834.000000</td>\n",
              "      <td>325834.000000</td>\n",
              "      <td>325834.000000</td>\n",
              "      <td>325834.000000</td>\n",
              "      <td>325834.000000</td>\n",
              "      <td>325834.000000</td>\n",
              "      <td>325834.000000</td>\n",
              "      <td>325834.000000</td>\n",
              "      <td>325834.000000</td>\n",
              "      <td>...</td>\n",
              "      <td>325834.000000</td>\n",
              "      <td>325834.000000</td>\n",
              "      <td>325834.000000</td>\n",
              "      <td>325834.000000</td>\n",
              "      <td>325834.000000</td>\n",
              "      <td>325834.000000</td>\n",
              "      <td>325834.000000</td>\n",
              "      <td>325834.000000</td>\n",
              "      <td>325834.000000</td>\n",
              "      <td>325834.000000</td>\n",
              "      <td>325834.000000</td>\n",
              "      <td>325834.000000</td>\n",
              "      <td>325834.000000</td>\n",
              "      <td>325834.000000</td>\n",
              "      <td>325834.000000</td>\n",
              "      <td>325834.000000</td>\n",
              "      <td>325834.000000</td>\n",
              "      <td>325834.000000</td>\n",
              "      <td>325834.000000</td>\n",
              "      <td>3.258340e+05</td>\n",
              "      <td>325834.000000</td>\n",
              "      <td>325834.000000</td>\n",
              "      <td>325834.000000</td>\n",
              "      <td>325834.000000</td>\n",
              "      <td>325834.000000</td>\n",
              "      <td>325834.000000</td>\n",
              "      <td>325834.000000</td>\n",
              "      <td>325834.000000</td>\n",
              "      <td>325834.000000</td>\n",
              "      <td>325834.000000</td>\n",
              "      <td>325834.000000</td>\n",
              "      <td>325834.000000</td>\n",
              "      <td>325834.000000</td>\n",
              "      <td>325834.000000</td>\n",
              "      <td>325834.000000</td>\n",
              "      <td>325834.000000</td>\n",
              "      <td>325834.000000</td>\n",
              "      <td>325834.000000</td>\n",
              "      <td>325834.000000</td>\n",
              "      <td>325834.000000</td>\n",
              "    </tr>\n",
              "    <tr>\n",
              "      <th>mean</th>\n",
              "      <td>4.062421</td>\n",
              "      <td>-15.143602</td>\n",
              "      <td>-24.026035</td>\n",
              "      <td>-15.400034</td>\n",
              "      <td>-18.59383</td>\n",
              "      <td>-14.493472</td>\n",
              "      <td>-18.427329</td>\n",
              "      <td>0.256432</td>\n",
              "      <td>-8.882434</td>\n",
              "      <td>-8.626002</td>\n",
              "      <td>-0.166500</td>\n",
              "      <td>4.100357</td>\n",
              "      <td>3.933857</td>\n",
              "      <td>0.480376</td>\n",
              "      <td>0.064088</td>\n",
              "      <td>0.455535</td>\n",
              "      <td>0.217800</td>\n",
              "      <td>0.555515</td>\n",
              "      <td>0.226686</td>\n",
              "      <td>-1.517263</td>\n",
              "      <td>-1.608698</td>\n",
              "      <td>-1.181434</td>\n",
              "      <td>-1.592702</td>\n",
              "      <td>-0.308595</td>\n",
              "      <td>-1.486840</td>\n",
              "      <td>0.057962</td>\n",
              "      <td>0.025120</td>\n",
              "      <td>0.005054</td>\n",
              "      <td>0.715467</td>\n",
              "      <td>0.702775</td>\n",
              "      <td>41.669169</td>\n",
              "      <td>0.500494</td>\n",
              "      <td>0.214973</td>\n",
              "      <td>0.202282</td>\n",
              "      <td>0.082251</td>\n",
              "      <td>0.083237</td>\n",
              "      <td>0.209597</td>\n",
              "      <td>-14.493472</td>\n",
              "      <td>-16.190682</td>\n",
              "      <td>-24.026035</td>\n",
              "      <td>...</td>\n",
              "      <td>0.669702</td>\n",
              "      <td>0.535537</td>\n",
              "      <td>6155.009207</td>\n",
              "      <td>5429.189523</td>\n",
              "      <td>3224.350943</td>\n",
              "      <td>4651.873460</td>\n",
              "      <td>10335.963905</td>\n",
              "      <td>0.512992</td>\n",
              "      <td>3.302018</td>\n",
              "      <td>1.708508</td>\n",
              "      <td>-1.165913</td>\n",
              "      <td>0.949212</td>\n",
              "      <td>0.769460</td>\n",
              "      <td>0.258010</td>\n",
              "      <td>0.300439</td>\n",
              "      <td>0.810907</td>\n",
              "      <td>0.371572</td>\n",
              "      <td>2.235246</td>\n",
              "      <td>0.371572</td>\n",
              "      <td>5.193413e+05</td>\n",
              "      <td>0.181069</td>\n",
              "      <td>4939.284233</td>\n",
              "      <td>173844.894271</td>\n",
              "      <td>1.458607</td>\n",
              "      <td>44.453234</td>\n",
              "      <td>0.480385</td>\n",
              "      <td>0.755551</td>\n",
              "      <td>0.929868</td>\n",
              "      <td>0.553554</td>\n",
              "      <td>1.074719</td>\n",
              "      <td>0.433834</td>\n",
              "      <td>0.329085</td>\n",
              "      <td>2.171177</td>\n",
              "      <td>0.080138</td>\n",
              "      <td>0.919604</td>\n",
              "      <td>0.174447</td>\n",
              "      <td>0.162900</td>\n",
              "      <td>0.403288</td>\n",
              "      <td>0.764646</td>\n",
              "      <td>0.667567</td>\n",
              "    </tr>\n",
              "    <tr>\n",
              "      <th>std</th>\n",
              "      <td>1.604617</td>\n",
              "      <td>3.504255</td>\n",
              "      <td>4.054214</td>\n",
              "      <td>3.267857</td>\n",
              "      <td>3.71163</td>\n",
              "      <td>3.189013</td>\n",
              "      <td>3.675741</td>\n",
              "      <td>1.682060</td>\n",
              "      <td>1.204040</td>\n",
              "      <td>2.002658</td>\n",
              "      <td>0.596276</td>\n",
              "      <td>1.499603</td>\n",
              "      <td>1.539068</td>\n",
              "      <td>0.083552</td>\n",
              "      <td>0.020465</td>\n",
              "      <td>0.093410</td>\n",
              "      <td>0.041863</td>\n",
              "      <td>0.082040</td>\n",
              "      <td>0.045401</td>\n",
              "      <td>0.644197</td>\n",
              "      <td>0.621884</td>\n",
              "      <td>0.519517</td>\n",
              "      <td>0.668061</td>\n",
              "      <td>0.155145</td>\n",
              "      <td>0.635231</td>\n",
              "      <td>0.054490</td>\n",
              "      <td>0.020026</td>\n",
              "      <td>0.005420</td>\n",
              "      <td>0.067356</td>\n",
              "      <td>0.105147</td>\n",
              "      <td>5.775659</td>\n",
              "      <td>0.076198</td>\n",
              "      <td>0.087860</td>\n",
              "      <td>0.060233</td>\n",
              "      <td>0.030058</td>\n",
              "      <td>0.037619</td>\n",
              "      <td>0.084197</td>\n",
              "      <td>3.189013</td>\n",
              "      <td>3.663707</td>\n",
              "      <td>4.054214</td>\n",
              "      <td>...</td>\n",
              "      <td>0.286678</td>\n",
              "      <td>0.500804</td>\n",
              "      <td>245.682028</td>\n",
              "      <td>582.646612</td>\n",
              "      <td>572.939182</td>\n",
              "      <td>746.884339</td>\n",
              "      <td>2262.583966</td>\n",
              "      <td>0.117465</td>\n",
              "      <td>0.868576</td>\n",
              "      <td>0.180011</td>\n",
              "      <td>1.969942</td>\n",
              "      <td>0.186985</td>\n",
              "      <td>0.176194</td>\n",
              "      <td>0.054244</td>\n",
              "      <td>0.090148</td>\n",
              "      <td>0.126551</td>\n",
              "      <td>0.084858</td>\n",
              "      <td>0.399870</td>\n",
              "      <td>0.084858</td>\n",
              "      <td>1.699188e+05</td>\n",
              "      <td>0.066900</td>\n",
              "      <td>1758.170529</td>\n",
              "      <td>54569.523161</td>\n",
              "      <td>0.202670</td>\n",
              "      <td>5.066352</td>\n",
              "      <td>1.263675</td>\n",
              "      <td>0.165313</td>\n",
              "      <td>2.121463</td>\n",
              "      <td>0.490840</td>\n",
              "      <td>0.541818</td>\n",
              "      <td>0.245857</td>\n",
              "      <td>0.442008</td>\n",
              "      <td>1.284653</td>\n",
              "      <td>0.182628</td>\n",
              "      <td>0.105953</td>\n",
              "      <td>0.373726</td>\n",
              "      <td>0.222008</td>\n",
              "      <td>0.480141</td>\n",
              "      <td>0.273847</td>\n",
              "      <td>0.471260</td>\n",
              "    </tr>\n",
              "    <tr>\n",
              "      <th>min</th>\n",
              "      <td>1.000000</td>\n",
              "      <td>-23.971000</td>\n",
              "      <td>-34.308000</td>\n",
              "      <td>-23.161000</td>\n",
              "      <td>-27.24500</td>\n",
              "      <td>-22.103000</td>\n",
              "      <td>-26.897000</td>\n",
              "      <td>-5.582600</td>\n",
              "      <td>-16.389000</td>\n",
              "      <td>-16.558000</td>\n",
              "      <td>-2.717500</td>\n",
              "      <td>-4.281900</td>\n",
              "      <td>-4.498300</td>\n",
              "      <td>0.209190</td>\n",
              "      <td>0.015586</td>\n",
              "      <td>0.162270</td>\n",
              "      <td>0.064580</td>\n",
              "      <td>0.153900</td>\n",
              "      <td>0.075863</td>\n",
              "      <td>-6.793300</td>\n",
              "      <td>-7.756700</td>\n",
              "      <td>-7.643300</td>\n",
              "      <td>-7.676600</td>\n",
              "      <td>-2.051400</td>\n",
              "      <td>-7.383900</td>\n",
              "      <td>0.006389</td>\n",
              "      <td>0.003183</td>\n",
              "      <td>0.000264</td>\n",
              "      <td>0.307150</td>\n",
              "      <td>0.145010</td>\n",
              "      <td>17.538000</td>\n",
              "      <td>0.101970</td>\n",
              "      <td>0.020272</td>\n",
              "      <td>0.023803</td>\n",
              "      <td>0.010547</td>\n",
              "      <td>0.007286</td>\n",
              "      <td>0.021641</td>\n",
              "      <td>-22.103000</td>\n",
              "      <td>-24.520000</td>\n",
              "      <td>-34.308000</td>\n",
              "      <td>...</td>\n",
              "      <td>0.111110</td>\n",
              "      <td>-1.000000</td>\n",
              "      <td>5495.000000</td>\n",
              "      <td>4310.000000</td>\n",
              "      <td>2219.000000</td>\n",
              "      <td>2462.000000</td>\n",
              "      <td>3050.000000</td>\n",
              "      <td>-0.100680</td>\n",
              "      <td>0.817050</td>\n",
              "      <td>1.030300</td>\n",
              "      <td>-502.770000</td>\n",
              "      <td>0.003170</td>\n",
              "      <td>-0.151020</td>\n",
              "      <td>0.014904</td>\n",
              "      <td>-0.272750</td>\n",
              "      <td>-0.035341</td>\n",
              "      <td>-0.019756</td>\n",
              "      <td>0.961250</td>\n",
              "      <td>-0.019756</td>\n",
              "      <td>6.390000e+03</td>\n",
              "      <td>-0.104300</td>\n",
              "      <td>-4178.200000</td>\n",
              "      <td>-45280.000000</td>\n",
              "      <td>0.811110</td>\n",
              "      <td>27.000000</td>\n",
              "      <td>0.000000</td>\n",
              "      <td>0.027761</td>\n",
              "      <td>0.000000</td>\n",
              "      <td>0.000000</td>\n",
              "      <td>-0.000000</td>\n",
              "      <td>0.111110</td>\n",
              "      <td>-1.000000</td>\n",
              "      <td>0.000000</td>\n",
              "      <td>0.000000</td>\n",
              "      <td>0.106190</td>\n",
              "      <td>0.000000</td>\n",
              "      <td>0.000000</td>\n",
              "      <td>-0.000000</td>\n",
              "      <td>0.111110</td>\n",
              "      <td>-1.000000</td>\n",
              "    </tr>\n",
              "    <tr>\n",
              "      <th>25%</th>\n",
              "      <td>3.000000</td>\n",
              "      <td>-17.848000</td>\n",
              "      <td>-27.119000</td>\n",
              "      <td>-17.563000</td>\n",
              "      <td>-21.44900</td>\n",
              "      <td>-16.989000</td>\n",
              "      <td>-21.450000</td>\n",
              "      <td>-1.037800</td>\n",
              "      <td>-9.658500</td>\n",
              "      <td>-10.070000</td>\n",
              "      <td>-0.526397</td>\n",
              "      <td>3.141300</td>\n",
              "      <td>2.933200</td>\n",
              "      <td>0.415260</td>\n",
              "      <td>0.048986</td>\n",
              "      <td>0.382610</td>\n",
              "      <td>0.189580</td>\n",
              "      <td>0.502630</td>\n",
              "      <td>0.198030</td>\n",
              "      <td>-1.835700</td>\n",
              "      <td>-1.917375</td>\n",
              "      <td>-1.436000</td>\n",
              "      <td>-1.957400</td>\n",
              "      <td>-0.386190</td>\n",
              "      <td>-1.786200</td>\n",
              "      <td>0.022808</td>\n",
              "      <td>0.010740</td>\n",
              "      <td>0.001502</td>\n",
              "      <td>0.679390</td>\n",
              "      <td>0.637493</td>\n",
              "      <td>37.920000</td>\n",
              "      <td>0.447000</td>\n",
              "      <td>0.156660</td>\n",
              "      <td>0.164790</td>\n",
              "      <td>0.059001</td>\n",
              "      <td>0.056344</td>\n",
              "      <td>0.150760</td>\n",
              "      <td>-16.989000</td>\n",
              "      <td>-19.112000</td>\n",
              "      <td>-27.119000</td>\n",
              "      <td>...</td>\n",
              "      <td>0.407410</td>\n",
              "      <td>0.158110</td>\n",
              "      <td>5959.000000</td>\n",
              "      <td>5011.000000</td>\n",
              "      <td>2847.000000</td>\n",
              "      <td>4129.000000</td>\n",
              "      <td>8827.000000</td>\n",
              "      <td>0.477292</td>\n",
              "      <td>2.826225</td>\n",
              "      <td>1.621200</td>\n",
              "      <td>-1.342600</td>\n",
              "      <td>0.894890</td>\n",
              "      <td>0.715910</td>\n",
              "      <td>0.237000</td>\n",
              "      <td>0.262700</td>\n",
              "      <td>0.797720</td>\n",
              "      <td>0.339150</td>\n",
              "      <td>2.026400</td>\n",
              "      <td>0.339150</td>\n",
              "      <td>4.196200e+05</td>\n",
              "      <td>0.147730</td>\n",
              "      <td>3933.000000</td>\n",
              "      <td>143760.000000</td>\n",
              "      <td>1.346700</td>\n",
              "      <td>40.889000</td>\n",
              "      <td>0.098765</td>\n",
              "      <td>0.666670</td>\n",
              "      <td>0.222220</td>\n",
              "      <td>0.222220</td>\n",
              "      <td>0.686960</td>\n",
              "      <td>0.259260</td>\n",
              "      <td>0.000000</td>\n",
              "      <td>1.000000</td>\n",
              "      <td>0.000000</td>\n",
              "      <td>0.833330</td>\n",
              "      <td>0.000000</td>\n",
              "      <td>0.000000</td>\n",
              "      <td>-0.000000</td>\n",
              "      <td>0.506170</td>\n",
              "      <td>0.357140</td>\n",
              "    </tr>\n",
              "    <tr>\n",
              "      <th>50%</th>\n",
              "      <td>4.000000</td>\n",
              "      <td>-15.992000</td>\n",
              "      <td>-25.064000</td>\n",
              "      <td>-16.164000</td>\n",
              "      <td>-19.58800</td>\n",
              "      <td>-15.099000</td>\n",
              "      <td>-19.282000</td>\n",
              "      <td>0.309180</td>\n",
              "      <td>-8.915900</td>\n",
              "      <td>-8.733100</td>\n",
              "      <td>-0.174610</td>\n",
              "      <td>4.078600</td>\n",
              "      <td>3.958250</td>\n",
              "      <td>0.483265</td>\n",
              "      <td>0.061419</td>\n",
              "      <td>0.450350</td>\n",
              "      <td>0.216770</td>\n",
              "      <td>0.556410</td>\n",
              "      <td>0.224160</td>\n",
              "      <td>-1.424200</td>\n",
              "      <td>-1.496500</td>\n",
              "      <td>-1.082600</td>\n",
              "      <td>-1.509800</td>\n",
              "      <td>-0.277290</td>\n",
              "      <td>-1.377200</td>\n",
              "      <td>0.034611</td>\n",
              "      <td>0.016227</td>\n",
              "      <td>0.002560</td>\n",
              "      <td>0.718200</td>\n",
              "      <td>0.710130</td>\n",
              "      <td>41.985000</td>\n",
              "      <td>0.506425</td>\n",
              "      <td>0.199030</td>\n",
              "      <td>0.201780</td>\n",
              "      <td>0.078004</td>\n",
              "      <td>0.075874</td>\n",
              "      <td>0.193740</td>\n",
              "      <td>-15.099000</td>\n",
              "      <td>-17.046000</td>\n",
              "      <td>-25.064000</td>\n",
              "      <td>...</td>\n",
              "      <td>0.654320</td>\n",
              "      <td>0.632460</td>\n",
              "      <td>6098.000000</td>\n",
              "      <td>5214.000000</td>\n",
              "      <td>3091.000000</td>\n",
              "      <td>4415.000000</td>\n",
              "      <td>9872.000000</td>\n",
              "      <td>0.529050</td>\n",
              "      <td>3.246700</td>\n",
              "      <td>1.715100</td>\n",
              "      <td>-0.976960</td>\n",
              "      <td>0.984670</td>\n",
              "      <td>0.793550</td>\n",
              "      <td>0.263370</td>\n",
              "      <td>0.308640</td>\n",
              "      <td>0.837190</td>\n",
              "      <td>0.378880</td>\n",
              "      <td>2.220000</td>\n",
              "      <td>0.378880</td>\n",
              "      <td>5.113000e+05</td>\n",
              "      <td>0.174870</td>\n",
              "      <td>4624.100000</td>\n",
              "      <td>163940.000000</td>\n",
              "      <td>1.423900</td>\n",
              "      <td>45.778000</td>\n",
              "      <td>0.222220</td>\n",
              "      <td>0.777780</td>\n",
              "      <td>0.444440</td>\n",
              "      <td>0.444440</td>\n",
              "      <td>1.149100</td>\n",
              "      <td>0.358020</td>\n",
              "      <td>0.357140</td>\n",
              "      <td>2.000000</td>\n",
              "      <td>0.000000</td>\n",
              "      <td>1.000000</td>\n",
              "      <td>0.000000</td>\n",
              "      <td>0.000000</td>\n",
              "      <td>-0.000000</td>\n",
              "      <td>1.000000</td>\n",
              "      <td>1.000000</td>\n",
              "    </tr>\n",
              "    <tr>\n",
              "      <th>75%</th>\n",
              "      <td>6.000000</td>\n",
              "      <td>-11.786000</td>\n",
              "      <td>-20.387000</td>\n",
              "      <td>-13.427000</td>\n",
              "      <td>-15.65000</td>\n",
              "      <td>-11.735000</td>\n",
              "      <td>-15.514000</td>\n",
              "      <td>1.558200</td>\n",
              "      <td>-8.190200</td>\n",
              "      <td>-7.158100</td>\n",
              "      <td>0.171758</td>\n",
              "      <td>5.089700</td>\n",
              "      <td>4.879600</td>\n",
              "      <td>0.548218</td>\n",
              "      <td>0.074158</td>\n",
              "      <td>0.529400</td>\n",
              "      <td>0.245190</td>\n",
              "      <td>0.612260</td>\n",
              "      <td>0.255760</td>\n",
              "      <td>-1.084300</td>\n",
              "      <td>-1.177800</td>\n",
              "      <td>-0.836522</td>\n",
              "      <td>-1.142900</td>\n",
              "      <td>-0.202810</td>\n",
              "      <td>-1.058800</td>\n",
              "      <td>0.078199</td>\n",
              "      <td>0.036190</td>\n",
              "      <td>0.007400</td>\n",
              "      <td>0.761590</td>\n",
              "      <td>0.778340</td>\n",
              "      <td>45.503750</td>\n",
              "      <td>0.563100</td>\n",
              "      <td>0.260200</td>\n",
              "      <td>0.243390</td>\n",
              "      <td>0.099983</td>\n",
              "      <td>0.099469</td>\n",
              "      <td>0.247748</td>\n",
              "      <td>-11.735000</td>\n",
              "      <td>-13.388000</td>\n",
              "      <td>-20.387000</td>\n",
              "      <td>...</td>\n",
              "      <td>1.000000</td>\n",
              "      <td>1.000000</td>\n",
              "      <td>6368.000000</td>\n",
              "      <td>5800.000000</td>\n",
              "      <td>3404.000000</td>\n",
              "      <td>5254.000000</td>\n",
              "      <td>11906.000000</td>\n",
              "      <td>0.585700</td>\n",
              "      <td>3.827400</td>\n",
              "      <td>1.831000</td>\n",
              "      <td>-0.798720</td>\n",
              "      <td>1.062900</td>\n",
              "      <td>0.878520</td>\n",
              "      <td>0.293540</td>\n",
              "      <td>0.355560</td>\n",
              "      <td>0.876720</td>\n",
              "      <td>0.418710</td>\n",
              "      <td>2.440600</td>\n",
              "      <td>0.418710</td>\n",
              "      <td>6.311800e+05</td>\n",
              "      <td>0.219240</td>\n",
              "      <td>6116.150000</td>\n",
              "      <td>210115.000000</td>\n",
              "      <td>1.561600</td>\n",
              "      <td>47.889000</td>\n",
              "      <td>0.444440</td>\n",
              "      <td>0.888890</td>\n",
              "      <td>0.888890</td>\n",
              "      <td>0.666670</td>\n",
              "      <td>1.464800</td>\n",
              "      <td>0.506170</td>\n",
              "      <td>0.661440</td>\n",
              "      <td>3.000000</td>\n",
              "      <td>0.172840</td>\n",
              "      <td>1.000000</td>\n",
              "      <td>0.333330</td>\n",
              "      <td>0.333330</td>\n",
              "      <td>0.848690</td>\n",
              "      <td>1.000000</td>\n",
              "      <td>1.000000</td>\n",
              "    </tr>\n",
              "    <tr>\n",
              "      <th>max</th>\n",
              "      <td>7.000000</td>\n",
              "      <td>2.535600</td>\n",
              "      <td>-7.589100</td>\n",
              "      <td>1.104000</td>\n",
              "      <td>0.77491</td>\n",
              "      <td>-0.887390</td>\n",
              "      <td>0.951780</td>\n",
              "      <td>7.029900</td>\n",
              "      <td>-1.175400</td>\n",
              "      <td>-0.924610</td>\n",
              "      <td>3.784800</td>\n",
              "      <td>11.212000</td>\n",
              "      <td>10.452000</td>\n",
              "      <td>0.818920</td>\n",
              "      <td>0.271850</td>\n",
              "      <td>0.756480</td>\n",
              "      <td>0.437000</td>\n",
              "      <td>0.853710</td>\n",
              "      <td>0.433590</td>\n",
              "      <td>-0.209890</td>\n",
              "      <td>-0.374020</td>\n",
              "      <td>-0.123950</td>\n",
              "      <td>-0.231290</td>\n",
              "      <td>-0.027539</td>\n",
              "      <td>-0.200370</td>\n",
              "      <td>2.444500</td>\n",
              "      <td>0.762620</td>\n",
              "      <td>0.112550</td>\n",
              "      <td>0.929370</td>\n",
              "      <td>0.969180</td>\n",
              "      <td>73.211000</td>\n",
              "      <td>0.648730</td>\n",
              "      <td>0.664920</td>\n",
              "      <td>0.522050</td>\n",
              "      <td>0.400160</td>\n",
              "      <td>0.356960</td>\n",
              "      <td>0.689850</td>\n",
              "      <td>-0.887390</td>\n",
              "      <td>3.554800</td>\n",
              "      <td>-7.589100</td>\n",
              "      <td>...</td>\n",
              "      <td>1.000000</td>\n",
              "      <td>1.000000</td>\n",
              "      <td>14311.000000</td>\n",
              "      <td>12687.000000</td>\n",
              "      <td>10768.000000</td>\n",
              "      <td>8734.000000</td>\n",
              "      <td>18281.000000</td>\n",
              "      <td>0.749810</td>\n",
              "      <td>6.993800</td>\n",
              "      <td>2.292600</td>\n",
              "      <td>912.600000</td>\n",
              "      <td>1.980300</td>\n",
              "      <td>1.124700</td>\n",
              "      <td>0.392570</td>\n",
              "      <td>0.529860</td>\n",
              "      <td>0.956380</td>\n",
              "      <td>0.584990</td>\n",
              "      <td>3.819100</td>\n",
              "      <td>0.584990</td>\n",
              "      <td>1.105900e+06</td>\n",
              "      <td>0.415520</td>\n",
              "      <td>10862.000000</td>\n",
              "      <td>365400.000000</td>\n",
              "      <td>2.421900</td>\n",
              "      <td>60.889000</td>\n",
              "      <td>93.802000</td>\n",
              "      <td>1.000000</td>\n",
              "      <td>134.890000</td>\n",
              "      <td>9.333300</td>\n",
              "      <td>2.197200</td>\n",
              "      <td>1.000000</td>\n",
              "      <td>1.000000</td>\n",
              "      <td>12.444000</td>\n",
              "      <td>25.951000</td>\n",
              "      <td>1.000000</td>\n",
              "      <td>66.667000</td>\n",
              "      <td>6.666700</td>\n",
              "      <td>2.197200</td>\n",
              "      <td>1.000000</td>\n",
              "      <td>1.000000</td>\n",
              "    </tr>\n",
              "  </tbody>\n",
              "</table>\n",
              "<p>8 rows × 175 columns</p>\n",
              "</div>"
            ],
            "text/plain": [
              "               label             f1  ...           f173           f174\n",
              "count  325834.000000  325834.000000  ...  325834.000000  325834.000000\n",
              "mean        4.062421     -15.143602  ...       0.764646       0.667567\n",
              "std         1.604617       3.504255  ...       0.273847       0.471260\n",
              "min         1.000000     -23.971000  ...       0.111110      -1.000000\n",
              "25%         3.000000     -17.848000  ...       0.506170       0.357140\n",
              "50%         4.000000     -15.992000  ...       1.000000       1.000000\n",
              "75%         6.000000     -11.786000  ...       1.000000       1.000000\n",
              "max         7.000000       2.535600  ...       1.000000       1.000000\n",
              "\n",
              "[8 rows x 175 columns]"
            ]
          },
          "metadata": {
            "tags": []
          },
          "execution_count": 10
        }
      ]
    },
    {
      "cell_type": "code",
      "metadata": {
        "colab": {
          "base_uri": "https://localhost:8080/"
        },
        "id": "t695AeZRyF6a",
        "outputId": "f4285921-d0bb-44ec-8d71-037d71c44e3e"
      },
      "source": [
        "df.isnull().sum(axis=0)"
      ],
      "execution_count": null,
      "outputs": [
        {
          "output_type": "execute_result",
          "data": {
            "text/plain": [
              "label    0\n",
              "f1       0\n",
              "f2       0\n",
              "f3       0\n",
              "f4       0\n",
              "        ..\n",
              "f170     0\n",
              "f171     0\n",
              "f172     0\n",
              "f173     0\n",
              "f174     0\n",
              "Length: 175, dtype: int64"
            ]
          },
          "metadata": {
            "tags": []
          },
          "execution_count": 10
        }
      ]
    },
    {
      "cell_type": "code",
      "metadata": {
        "colab": {
          "base_uri": "https://localhost:8080/"
        },
        "id": "fZ6vn4qNyF6a",
        "outputId": "48ee1ed5-1f83-4c54-d750-523d0288fa87"
      },
      "source": [
        "df['label'].unique()"
      ],
      "execution_count": null,
      "outputs": [
        {
          "output_type": "execute_result",
          "data": {
            "text/plain": [
              "array([1, 2, 3, 4, 5, 6, 7])"
            ]
          },
          "metadata": {
            "tags": []
          },
          "execution_count": 11
        }
      ]
    },
    {
      "cell_type": "code",
      "metadata": {
        "colab": {
          "base_uri": "https://localhost:8080/",
          "height": 469
        },
        "id": "TjhQ_uObyF6a",
        "outputId": "8faa8fdf-0166-485a-c7c3-859b2b365974"
      },
      "source": [
        "from collections import Counter\n",
        "\n",
        "counter = Counter(sorted(df['label']))\n",
        "\n",
        "for k,v in counter.items():\n",
        "    per = v/len(df['label'])*100\n",
        "    print('Class=%d, n=%d (%.3f%%)'%(k, v, per))\n",
        "\n",
        "#plot class distribution\n",
        "plt.figure(figsize=(10, 5))\n",
        "plt.title('Distribution of Classes')\n",
        "plt.bar(counter.keys(), counter.values())\n",
        "plt.xlabel('class')\n",
        "plt.ylabel('count')\n",
        "plt.show()"
      ],
      "execution_count": null,
      "outputs": [
        {
          "output_type": "stream",
          "text": [
            "Class=1, n=39162 (12.019%)\n",
            "Class=2, n=3598 (1.104%)\n",
            "Class=3, n=75673 (23.224%)\n",
            "Class=4, n=74067 (22.732%)\n",
            "Class=5, n=47117 (14.460%)\n",
            "Class=6, n=85074 (26.110%)\n",
            "Class=7, n=1143 (0.351%)\n"
          ],
          "name": "stdout"
        },
        {
          "output_type": "display_data",
          "data": {
            "image/png": "[encoded data removed]",
            "text/plain": [
              "<Figure size 720x360 with 1 Axes>"
            ]
          },
          "metadata": {
            "tags": [],
            "needs_background": "light"
          }
        }
      ]
    },
    {
      "cell_type": "code",
      "metadata": {
        "colab": {
          "base_uri": "https://localhost:8080/",
          "height": 592
        },
        "id": "bc0p-gbnNTy4",
        "outputId": "e0a0253f-29fc-4e96-bec7-2e36abdac866"
      },
      "source": [
        "features = df.iloc[:,1:]\n",
        "labels = df['label']\n",
        "\n",
        "from sklearn.decomposition import PCA \n",
        "pca = PCA(n_components = 2)\n",
        "features = pca.fit_transform(features)\n",
        "\n",
        "plt.figure(figsize = (10, 10))\n",
        "plt.scatter(features[:,0], features[:,1], c=labels, cmap='rainbow')\n",
        "plt.show()"
      ],
      "execution_count": null,
      "outputs": [
        {
          "output_type": "display_data",
          "data": {
            "image/png": "[encoded data removed]",
            "text/plain": [
              "<Figure size 720x720 with 1 Axes>"
            ]
          },
          "metadata": {
            "tags": [],
            "needs_background": "light"
          }
        }
      ]
    },
    {
      "cell_type": "markdown",
      "metadata": {
        "id": "vNemqdWNyF6a"
      },
      "source": [
        "### Selecting Features"
      ]
    },
    {
      "cell_type": "markdown",
      "metadata": {
        "id": "D16YbCKpTMdD"
      },
      "source": [
        "Embedded methods using Lasso regularization"
      ]
    },
    {
      "cell_type": "code",
      "metadata": {
        "id": "s28_hkzuTMdD"
      },
      "source": [
        "from sklearn.linear_model import LogisticRegression, LassoCV\n",
        "from sklearn.feature_selection import SelectFromModel\n",
        "from sklearn.preprocessing import StandardScaler"
      ],
      "execution_count": null,
      "outputs": []
    },
    {
      "cell_type": "code",
      "metadata": {
        "id": "hxzcIGO-TMdD"
      },
      "source": [
        "df_copy = df.copy()\n",
        "\n",
        "features = df_copy.iloc[:,1:]\n",
        "labels = df_copy['label']"
      ],
      "execution_count": null,
      "outputs": []
    },
    {
      "cell_type": "code",
      "metadata": {
        "colab": {
          "base_uri": "https://localhost:8080/"
        },
        "id": "IiAnNAvfTMdD",
        "outputId": "790031c0-ed31-4975-e63c-a7e81af36472"
      },
      "source": [
        "from sklearn.preprocessing import StandardScaler\n",
        "\n",
        "scaler = StandardScaler()\n",
        "scaler.fit(features)"
      ],
      "execution_count": null,
      "outputs": [
        {
          "output_type": "execute_result",
          "data": {
            "text/plain": [
              "StandardScaler(copy=True, with_mean=True, with_std=True)"
            ]
          },
          "metadata": {
            "tags": []
          },
          "execution_count": 15
        }
      ]
    },
    {
      "cell_type": "markdown",
      "metadata": {
        "id": "v2haLlyy7-4e"
      },
      "source": [
        "1) Lasso Cross Validation L1"
      ]
    },
    {
      "cell_type": "code",
      "metadata": {
        "colab": {
          "base_uri": "https://localhost:8080/"
        },
        "id": "W-iBzxNIAMX_",
        "outputId": "25e61598-f00a-4bb0-95bb-4178bb55f82a"
      },
      "source": [
        "sel_cv = SelectFromModel(LassoCV())\n",
        "sel_cv.fit(scaler.transform(features), labels)\n",
        "selected_feat = features.columns[(sel_cv.get_support())]\n",
        "print('total features: {}'.format((features.shape[1])))\n",
        "print('selected features: {}'.format(len(selected_feat)))\n",
        "print('features with zero: {}'.format(np.sum(sel_cv.estimator_.coef_ == 0)))"
      ],
      "execution_count": null,
      "outputs": [
        {
          "output_type": "stream",
          "text": [
            "total features: 174\n",
            "selected features: 45\n",
            "features with zero: 129\n"
          ],
          "name": "stdout"
        }
      ]
    },
    {
      "cell_type": "code",
      "metadata": {
        "colab": {
          "base_uri": "https://localhost:8080/"
        },
        "id": "X7-ER15jAOvP",
        "outputId": "ff2fe37a-b54a-4978-dbc1-b1a3458712e8"
      },
      "source": [
        "X_lasso_cv = sel_cv.transform(features)\n",
        "y_lasso_cv = labels\n",
        "X_lasso_cv.shape, y_lasso_cv.shape"
      ],
      "execution_count": null,
      "outputs": [
        {
          "output_type": "execute_result",
          "data": {
            "text/plain": [
              "((325834, 45), (325834,))"
            ]
          },
          "metadata": {
            "tags": []
          },
          "execution_count": 18
        }
      ]
    },
    {
      "cell_type": "markdown",
      "metadata": {
        "id": "BJnVXstqADjG"
      },
      "source": [
        "2) Logistic Regression L2"
      ]
    },
    {
      "cell_type": "code",
      "metadata": {
        "colab": {
          "base_uri": "https://localhost:8080/"
        },
        "id": "-lMyke8pTMdE",
        "outputId": "95b66618-9e55-4887-e95d-15d0f7bdd54f"
      },
      "source": [
        "sel_ = SelectFromModel(LogisticRegression(C=1, penalty='l2'))\n",
        "sel_.fit(scaler.transform(features), labels)"
      ],
      "execution_count": null,
      "outputs": [
        {
          "output_type": "execute_result",
          "data": {
            "text/plain": [
              "SelectFromModel(estimator=LogisticRegression(C=1, class_weight=None, dual=False,\n",
              "                                             fit_intercept=True,\n",
              "                                             intercept_scaling=1, l1_ratio=None,\n",
              "                                             max_iter=100, multi_class='auto',\n",
              "                                             n_jobs=None, penalty='l2',\n",
              "                                             random_state=None, solver='lbfgs',\n",
              "                                             tol=0.0001, verbose=0,\n",
              "                                             warm_start=False),\n",
              "                max_features=None, norm_order=1, prefit=False, threshold=None)"
            ]
          },
          "metadata": {
            "tags": []
          },
          "execution_count": 20
        }
      ]
    },
    {
      "cell_type": "code",
      "metadata": {
        "colab": {
          "base_uri": "https://localhost:8080/"
        },
        "id": "zhDv38f8TMdE",
        "outputId": "a3f89098-d9b5-4a42-e0b9-90ea525d98be"
      },
      "source": [
        "selected_feat = features.columns[(sel_.get_support())]\n",
        "print('total features: {}'.format((features.shape[1])))\n",
        "print('selected features: {}'.format(len(selected_feat)))"
      ],
      "execution_count": null,
      "outputs": [
        {
          "output_type": "stream",
          "text": [
            "total features: 174\n",
            "selected features: 67\n"
          ],
          "name": "stdout"
        }
      ]
    },
    {
      "cell_type": "code",
      "metadata": {
        "colab": {
          "base_uri": "https://localhost:8080/"
        },
        "id": "yn3JYJyNTMdE",
        "outputId": "4ab7e69c-d9b9-4008-9d9c-c054a6d927eb"
      },
      "source": [
        "np.sum(sel_.estimator_.coef_ == 0)"
      ],
      "execution_count": null,
      "outputs": [
        {
          "output_type": "execute_result",
          "data": {
            "text/plain": [
              "0"
            ]
          },
          "metadata": {
            "tags": []
          },
          "execution_count": 22
        }
      ]
    },
    {
      "cell_type": "code",
      "metadata": {
        "colab": {
          "base_uri": "https://localhost:8080/"
        },
        "id": "Rkd1JL-vTMdE",
        "outputId": "587e3c99-8f84-4df4-c7d3-273672b9f178"
      },
      "source": [
        "X_lasso = sel_.transform(features)\n",
        "y_lasso = labels\n",
        "\n",
        "X_lasso.shape, y_lasso.shape"
      ],
      "execution_count": null,
      "outputs": [
        {
          "output_type": "execute_result",
          "data": {
            "text/plain": [
              "((325834, 67), (325834,))"
            ]
          },
          "metadata": {
            "tags": []
          },
          "execution_count": 23
        }
      ]
    },
    {
      "cell_type": "markdown",
      "metadata": {
        "id": "mGmtYGH4yF6b"
      },
      "source": [
        "### Divide dataset into train and test dataset"
      ]
    },
    {
      "cell_type": "code",
      "metadata": {
        "id": "rl-ksMZ9TMdE"
      },
      "source": [
        "X = X_lasso\n",
        "y = y_lasso"
      ],
      "execution_count": null,
      "outputs": []
    },
    {
      "cell_type": "code",
      "metadata": {
        "colab": {
          "base_uri": "https://localhost:8080/"
        },
        "id": "i-e39xOuTMdE",
        "outputId": "b0a350be-bd4c-4a7a-9a63-63e7fafb9842"
      },
      "source": [
        "from sklearn.model_selection import train_test_split\n",
        "\n",
        "X_train_cv, X_test_cv,y_train_cv, y_test_cv = train_test_split(X_lasso_cv, y_lasso_cv, test_size=0.3, random_state=42)\n",
        "X_train, X_test, y_train, y_test = train_test_split(X, y, test_size=0.3, random_state=42)\n",
        "\n",
        "print('Train shape L1:', X_train_cv.shape)\n",
        "print('Test shape L1:', X_test_cv.shape)\n",
        "print('Train shape L2: ', X_train.shape)\n",
        "print('Test shape L2: ', X_test.shape)"
      ],
      "execution_count": null,
      "outputs": [
        {
          "output_type": "stream",
          "text": [
            "Train shape L1: (228083, 45)\n",
            "Test shape L1: (97751, 45)\n",
            "Train shape L2:  (228083, 67)\n",
            "Test shape L2:  (97751, 67)\n"
          ],
          "name": "stdout"
        }
      ]
    },
    {
      "cell_type": "code",
      "metadata": {
        "id": "qX2Qkmrm8gQP"
      },
      "source": [
        "# create training set for both L2, and L1(X_train_cv)\n",
        "training_sets = [(X_train, y_train, y_test), (X_train_cv, y_train_cv, y_test_cv)]"
      ],
      "execution_count": null,
      "outputs": []
    },
    {
      "cell_type": "markdown",
      "metadata": {
        "id": "ultNaJjbTMdE"
      },
      "source": [
        "### Model Selection"
      ]
    },
    {
      "cell_type": "code",
      "metadata": {
        "id": "p5X0W1eDTMdE"
      },
      "source": [
        "#ensemble methods\n",
        "from sklearn.ensemble import RandomForestClassifier\n",
        "from sklearn.ensemble import BaggingClassifier\n",
        "from sklearn.ensemble import ExtraTreesClassifier\n",
        "from xgboost import XGBClassifier\n",
        "from sklearn.ensemble import GradientBoostingClassifier\n",
        "\n",
        "from sklearn.metrics import accuracy_score\n",
        "from sklearn.metrics import f1_score\n",
        "from sklearn.metrics import mean_squared_error\n",
        "from sklearn.metrics import classification_report"
      ],
      "execution_count": null,
      "outputs": []
    },
    {
      "cell_type": "code",
      "metadata": {
        "id": "wMLN0XT8vEQ2"
      },
      "source": [
        "def train_classifier(model, X, y):    \n",
        "    model.fit(X, y)\n",
        "    \n",
        "def predict_labels(model, X):\n",
        "    return (model.predict(X))"
      ],
      "execution_count": null,
      "outputs": []
    },
    {
      "cell_type": "markdown",
      "metadata": {
        "id": "ru5Nk65G9gtK"
      },
      "source": [
        "#### 1) Ensemble methods with L1"
      ]
    },
    {
      "cell_type": "code",
      "metadata": {
        "id": "i9MqJQlcDUfc"
      },
      "source": [
        "rfc = RandomForestClassifier()\n",
        "bc = BaggingClassifier()\n",
        "etc = ExtraTreesClassifier()\n",
        "xgb = XGBClassifier()\n",
        "gb = GradientBoostingClassifier()"
      ],
      "execution_count": null,
      "outputs": []
    },
    {
      "cell_type": "code",
      "metadata": {
        "id": "LOqh9MgTDWeL"
      },
      "source": [
        "clfs = {'RF': rfc, 'BgC': bc, 'ETC': etc, 'XGB': xgb, 'GDBoost':gb}"
      ],
      "execution_count": null,
      "outputs": []
    },
    {
      "cell_type": "code",
      "metadata": {
        "id": "i1ycm5Sl9pBG"
      },
      "source": [
        "pred_accuracy_scores = []\n",
        "pred_f1_scores=[]\n",
        "pred_rmse = []\n",
        "for k, m in clfs.items():    \n",
        "    m.fit(X_train_cv, y_train_cv)\n",
        "    pred = m.predict(X_test_cv)\n",
        "    pred_accuracy_scores.append((k, [accuracy_score(y_test_cv, pred)]))\n",
        "    pred_f1_scores.append((k, [f1_score(y_test_cv, pred, average='macro')]))\n",
        "    pred_rmse.append((k, [np.math.sqrt(mean_squared_error(y_test_cv, pred))])) "
      ],
      "execution_count": null,
      "outputs": []
    },
    {
      "cell_type": "code",
      "metadata": {
        "colab": {
          "base_uri": "https://localhost:8080/"
        },
        "id": "XpbbO14X918z",
        "outputId": "d214bbad-da83-430c-e2e9-e734fe819f60"
      },
      "source": [
        "pred_accuracy_scores"
      ],
      "execution_count": null,
      "outputs": [
        {
          "output_type": "execute_result",
          "data": {
            "text/plain": [
              "[('RF', [0.9951611748217409]),\n",
              " ('BgC', [0.9922046833280478]),\n",
              " ('ETC', [0.9962353326308683]),\n",
              " ('XGB', [0.9878875919427934]),\n",
              " ('GDBoost', [0.9858313469938926])]"
            ]
          },
          "metadata": {
            "tags": []
          },
          "execution_count": 33
        }
      ]
    },
    {
      "cell_type": "code",
      "metadata": {
        "colab": {
          "base_uri": "https://localhost:8080/"
        },
        "id": "u6qs2Aul928f",
        "outputId": "3fde82fe-6d23-454e-c5dd-1b487f15d0ed"
      },
      "source": [
        "pred_f1_scores"
      ],
      "execution_count": null,
      "outputs": [
        {
          "output_type": "execute_result",
          "data": {
            "text/plain": [
              "[('RF', [0.9884872386855845]),\n",
              " ('BgC', [0.9837753655640853]),\n",
              " ('ETC', [0.9906525766748856]),\n",
              " ('XGB', [0.9821534176878515]),\n",
              " ('GDBoost', [0.911084238994434])]"
            ]
          },
          "metadata": {
            "tags": []
          },
          "execution_count": 34
        }
      ]
    },
    {
      "cell_type": "code",
      "metadata": {
        "colab": {
          "base_uri": "https://localhost:8080/"
        },
        "id": "2nKNKwSy9589",
        "outputId": "23b39bcd-4432-43ff-a78b-6f1b05653035"
      },
      "source": [
        "pred_rmse"
      ],
      "execution_count": null,
      "outputs": [
        {
          "output_type": "execute_result",
          "data": {
            "text/plain": [
              "[('RF', [0.14827147340876073]),\n",
              " ('BgC', [0.18523409363785293]),\n",
              " ('ETC', [0.13175900808055308]),\n",
              " ('XGB', [0.215082301254848]),\n",
              " ('GDBoost', [0.35050387036528147])]"
            ]
          },
          "metadata": {
            "tags": []
          },
          "execution_count": 35
        }
      ]
    },
    {
      "cell_type": "markdown",
      "metadata": {
        "id": "dT0ySCxC9ke1"
      },
      "source": [
        "#### 2) Ensemble methods with L2"
      ]
    },
    {
      "cell_type": "code",
      "metadata": {
        "id": "Fdl4LA2EDZ5j"
      },
      "source": [
        "rfc = RandomForestClassifier()\n",
        "bc = BaggingClassifier()\n",
        "etc = ExtraTreesClassifier()\n",
        "xgb = XGBClassifier()\n",
        "gb = GradientBoostingClassifier()"
      ],
      "execution_count": null,
      "outputs": []
    },
    {
      "cell_type": "code",
      "metadata": {
        "id": "KTWnfd2DDb-8"
      },
      "source": [
        "clfs = {'RF': rfc, 'BgC': bc, 'ETC': etc, 'XGB': xgb, 'GDBoost':gb}"
      ],
      "execution_count": null,
      "outputs": []
    },
    {
      "cell_type": "code",
      "metadata": {
        "id": "7GBYyfEWd7Qd"
      },
      "source": [
        "pred_accuracy_scores = []\n",
        "pred_f1_scores=[]\n",
        "pred_rmse = []\n",
        "for k, m in clfs.items():    \n",
        "    m.fit(X_train, y_train)\n",
        "    pred = m.predict(X_test)\n",
        "    pred_accuracy_scores.append((k, [accuracy_score(y_test,pred)]))\n",
        "    pred_f1_scores.append((k, [f1_score(y_test, pred, average='macro')]))\n",
        "    pred_rmse.append((k, [np.math.sqrt(mean_squared_error(y_test, pred))])) "
      ],
      "execution_count": null,
      "outputs": []
    },
    {
      "cell_type": "code",
      "metadata": {
        "id": "zIa8tBnteHJ5",
        "colab": {
          "base_uri": "https://localhost:8080/"
        },
        "outputId": "7934de3f-4aed-4ff8-9233-72f47377a34f"
      },
      "source": [
        "pred_accuracy_scores"
      ],
      "execution_count": null,
      "outputs": [
        {
          "output_type": "execute_result",
          "data": {
            "text/plain": [
              "[('RF', [0.9957647492097268]),\n",
              " ('BgC', [0.993278841137175]),\n",
              " ('ETC', [0.9962864830027315]),\n",
              " ('XGB', [0.988982209900666]),\n",
              " ('GDBoost', [0.9867520536874304])]"
            ]
          },
          "metadata": {
            "tags": []
          },
          "execution_count": 35
        }
      ]
    },
    {
      "cell_type": "code",
      "metadata": {
        "id": "KJOuIl9TeLYB",
        "colab": {
          "base_uri": "https://localhost:8080/"
        },
        "outputId": "003b921d-3d52-4bda-9946-838333f6f413"
      },
      "source": [
        "pred_f1_scores"
      ],
      "execution_count": null,
      "outputs": [
        {
          "output_type": "execute_result",
          "data": {
            "text/plain": [
              "[('RF', [0.9895374857981132]),\n",
              " ('BgC', [0.9857930778125576]),\n",
              " ('ETC', [0.9901990261996428]),\n",
              " ('XGB', [0.9819574768964177]),\n",
              " ('GDBoost', [0.947196643955896])]"
            ]
          },
          "metadata": {
            "tags": []
          },
          "execution_count": 36
        }
      ]
    },
    {
      "cell_type": "code",
      "metadata": {
        "id": "hzg6pRhOgm07",
        "colab": {
          "base_uri": "https://localhost:8080/"
        },
        "outputId": "79815150-324c-464a-b336-fe1169cd8963"
      },
      "source": [
        "pred_rmse"
      ],
      "execution_count": null,
      "outputs": [
        {
          "output_type": "execute_result",
          "data": {
            "text/plain": [
              "[('RF', [0.1398567202550131]),\n",
              " ('BgC', [0.1762342355938174]),\n",
              " ('ETC', [0.13070663411743855]),\n",
              " ('XGB', [0.20631853882905896]),\n",
              " ('GDBoost', [0.25427164614854164])]"
            ]
          },
          "metadata": {
            "tags": []
          },
          "execution_count": 37
        }
      ]
    },
    {
      "cell_type": "markdown",
      "metadata": {
        "id": "bcgKZJ5peP-h"
      },
      "source": [
        "### Model Creation and Prediction"
      ]
    },
    {
      "cell_type": "markdown",
      "metadata": {
        "id": "RnuFW7ge99Bl"
      },
      "source": [
        "#### 1) Extra Trees Classifier with L1"
      ]
    },
    {
      "cell_type": "code",
      "metadata": {
        "colab": {
          "base_uri": "https://localhost:8080/"
        },
        "id": "k24AOcukPjck",
        "outputId": "52db9fe8-be7d-45f0-db8f-5770a9b29651"
      },
      "source": [
        "etc = ExtraTreesClassifier(n_estimators=100, n_jobs=3, class_weight=\"balanced\", criterion='entropy', random_state=42)\n",
        "etc.fit(X_train_cv, y_train_cv)\n",
        "etc_pred = etc.predict(X_test_cv)\n",
        "\n",
        "print('Accuracy score:', accuracy_score(y_test_cv, etc_pred))\n",
        "print('F1 score:',f1_score(y_test_cv, etc_pred, average='macro'))\n",
        "print('RMSE: ', np.math.sqrt(mean_squared_error(y_test_cv, etc_pred)))\n",
        "print(classification_report(y_test_cv, etc_pred))"
      ],
      "execution_count": null,
      "outputs": [
        {
          "output_type": "stream",
          "text": [
            "Accuracy score: 0.9964501641926937\n",
            "F1 score: 0.9908218871661\n",
            "RMSE:  0.12717604956572967\n",
            "              precision    recall  f1-score   support\n",
            "\n",
            "           1       1.00      1.00      1.00     11777\n",
            "           2       1.00      1.00      1.00      1095\n",
            "           3       1.00      1.00      1.00     22738\n",
            "           4       1.00      1.00      1.00     22229\n",
            "           5       0.99      0.99      0.99     14054\n",
            "           6       1.00      1.00      1.00     25526\n",
            "           7       0.94      0.97      0.96       332\n",
            "\n",
            "    accuracy                           1.00     97751\n",
            "   macro avg       0.99      0.99      0.99     97751\n",
            "weighted avg       1.00      1.00      1.00     97751\n",
            "\n"
          ],
          "name": "stdout"
        }
      ]
    },
    {
      "cell_type": "code",
      "metadata": {
        "colab": {
          "base_uri": "https://localhost:8080/",
          "height": 621
        },
        "id": "BAdXSdex-OLS",
        "outputId": "54e18893-f4d5-4c7f-b681-8b256ab7570e"
      },
      "source": [
        "from sklearn.metrics import confusion_matrix\n",
        "\n",
        "fig, ax = plt.subplots(figsize=(12, 10))\n",
        "cm = confusion_matrix(y_test_cv, etc_pred)\n",
        "sns.heatmap(cm, annot=True, ax = ax);\n",
        "ax.set_xlabel('Predicted labels')\n",
        "ax.set_ylabel('Actual labels')\n",
        "ax.set_title('Confusion Matrix') \n",
        "ax.xaxis.set_ticklabels(['corn', 'pea', 'canola', 'soy', 'oat', 'wheat', 'broadleaf']) \n",
        "ax.yaxis.set_ticklabels(['corn', 'pea', 'canola', 'soy', 'oat', 'wheat', 'broadleaf'])\n",
        "plt.show()"
      ],
      "execution_count": null,
      "outputs": [
        {
          "output_type": "display_data",
          "data": {
            "image/png": "[encoded data removed]",
            "text/plain": [
              "<Figure size 864x720 with 2 Axes>"
            ]
          },
          "metadata": {
            "tags": [],
            "needs_background": "light"
          }
        }
      ]
    },
    {
      "cell_type": "markdown",
      "metadata": {
        "id": "YbcutG62-CBb"
      },
      "source": [
        "#### 2) Extra Trees Classifier with L2"
      ]
    },
    {
      "cell_type": "code",
      "metadata": {
        "id": "MKg1Zpd3hqzk",
        "colab": {
          "base_uri": "https://localhost:8080/"
        },
        "outputId": "3958b022-db33-4393-accf-4c93b62f459e"
      },
      "source": [
        "etc = ExtraTreesClassifier(n_estimators=100, n_jobs=3, class_weight=\"balanced\", criterion='entropy', random_state=42)\n",
        "etc.fit(X_train, y_train)\n",
        "etc_pred = etc.predict(X_test)\n",
        "\n",
        "print('Accuracy score:', accuracy_score(y_test, etc_pred))\n",
        "print('F1 score:',f1_score(y_test, etc_pred, average='macro'))\n",
        "print('RMSE: ', np.math.sqrt(mean_squared_error(y_test, etc_pred)))\n",
        "print(classification_report(y_test, etc_pred))"
      ],
      "execution_count": null,
      "outputs": [
        {
          "output_type": "stream",
          "text": [
            "Accuracy score: 0.9965729250851654\n",
            "F1 score: 0.9909046258028864\n",
            "RMSE:  0.1232129472458101\n",
            "              precision    recall  f1-score   support\n",
            "\n",
            "           1       1.00      1.00      1.00     11777\n",
            "           2       1.00      1.00      1.00      1095\n",
            "           3       1.00      1.00      1.00     22738\n",
            "           4       1.00      1.00      1.00     22229\n",
            "           5       0.99      0.99      0.99     14054\n",
            "           6       1.00      1.00      1.00     25526\n",
            "           7       0.95      0.97      0.96       332\n",
            "\n",
            "    accuracy                           1.00     97751\n",
            "   macro avg       0.99      0.99      0.99     97751\n",
            "weighted avg       1.00      1.00      1.00     97751\n",
            "\n"
          ],
          "name": "stdout"
        }
      ]
    },
    {
      "cell_type": "code",
      "metadata": {
        "colab": {
          "base_uri": "https://localhost:8080/",
          "height": 621
        },
        "id": "9DQ6xXdDRuyo",
        "outputId": "f77ec56f-8be7-4cfe-cadd-48b71f24e4b0"
      },
      "source": [
        "from sklearn.metrics import confusion_matrix\n",
        "\n",
        "fig, ax = plt.subplots(figsize=(12, 10))\n",
        "cm = confusion_matrix(y_test, etc_pred)\n",
        "sns.heatmap(cm, annot=True, ax = ax);\n",
        "ax.set_xlabel('Predicted labels')\n",
        "ax.set_ylabel('Actual labels')\n",
        "ax.set_title('Confusion Matrix') \n",
        "ax.xaxis.set_ticklabels(['corn', 'pea', 'canola', 'soy', 'oat', 'wheat', 'broadleaf']) \n",
        "ax.yaxis.set_ticklabels(['corn', 'pea', 'canola', 'soy', 'oat', 'wheat', 'broadleaf'])\n",
        "plt.show()"
      ],
      "execution_count": null,
      "outputs": [
        {
          "output_type": "display_data",
          "data": {
            "image/png": "[encoded data removed]",
            "text/plain": [
              "<Figure size 864x720 with 2 Axes>"
            ]
          },
          "metadata": {
            "tags": [],
            "needs_background": "light"
          }
        }
      ]
    },
    {
      "cell_type": "markdown",
      "metadata": {
        "id": "tL4qlR_BhImq"
      },
      "source": [
        "### Model Validation"
      ]
    },
    {
      "cell_type": "code",
      "metadata": {
        "id": "--oCuzQ0-qfd"
      },
      "source": [
        "from sklearn.model_selection import RepeatedStratifiedKFold\n",
        "from sklearn.model_selection import cross_val_score"
      ],
      "execution_count": null,
      "outputs": []
    },
    {
      "cell_type": "markdown",
      "metadata": {
        "id": "cVAxM2PL-cUY"
      },
      "source": [
        "#### 1) Extra Trees Classifier with L1"
      ]
    },
    {
      "cell_type": "code",
      "metadata": {
        "id": "MvCI_gd8-s82"
      },
      "source": [
        "# Cross Validation approach\n",
        "etc = ExtraTreesClassifier(n_estimators=100, n_jobs=3, class_weight=\"balanced\", criterion='entropy', random_state=42)\n",
        "\n",
        "cv = RepeatedStratifiedKFold(n_splits=10, n_repeats=3, random_state=42)\n",
        "     \n",
        "accuracy_score = np.mean(cross_val_score(etc, X_train_cv, y_train_cv, scoring='accuracy', cv=cv, n_jobs=-1))\n",
        "f1_score = np.mean(cross_val_score(etc, X_train_cv, y_train_cv, scoring='f1_macro', cv=cv, n_jobs=-1))"
      ],
      "execution_count": null,
      "outputs": []
    },
    {
      "cell_type": "code",
      "metadata": {
        "colab": {
          "base_uri": "https://localhost:8080/"
        },
        "id": "U_puRk7P-9fu",
        "outputId": "2cec800d-55a0-4b8b-e9ab-c3206f04cf6c"
      },
      "source": [
        "print('mean Accuracy measured by cross validation: ', accuracy_score)\n",
        "print('mean F1-score measured by cross validation: ', f1_score)"
      ],
      "execution_count": null,
      "outputs": [
        {
          "output_type": "stream",
          "text": [
            "mean Accuracy measured by cross validation:  0.9963960472162914\n",
            "mean F1-score measured by cross validation:  0.9933135662768117\n"
          ],
          "name": "stdout"
        }
      ]
    },
    {
      "cell_type": "markdown",
      "metadata": {
        "id": "D7NWL3Qb-mDj"
      },
      "source": [
        "#### 2) Extra Trees Classifier with L2"
      ]
    },
    {
      "cell_type": "code",
      "metadata": {
        "id": "VzyxQCg1kdiw"
      },
      "source": [
        "# Cross Validation approach\n",
        "etc = ExtraTreesClassifier(n_estimators=100, n_jobs=3, class_weight=\"balanced\", criterion='entropy', random_state=42)\n",
        "\n",
        "cv = RepeatedStratifiedKFold(n_splits=10, n_repeats=3, random_state=42)\n",
        "     \n",
        "accuracy_score = np.mean(cross_val_score(etc, X_train, y_train, scoring='accuracy', cv=cv, n_jobs=-1))\n",
        "f1_score = np.mean(cross_val_score(etc, X_train, y_train, scoring='f1_macro', cv=cv, n_jobs=-1))"
      ],
      "execution_count": null,
      "outputs": []
    },
    {
      "cell_type": "code",
      "metadata": {
        "colab": {
          "base_uri": "https://localhost:8080/"
        },
        "id": "tHIusieUE-Np",
        "outputId": "82c13330-3f2e-4d6f-95ca-31937ee36cd4"
      },
      "source": [
        "print('mean Accuracy measured by cross validation: ', accuracy_score)\n",
        "print('mean F1-score measured by cross validation: ', f1_score)"
      ],
      "execution_count": null,
      "outputs": [
        {
          "output_type": "stream",
          "text": [
            "mean Accuracy measured by cross validation:  0.9966518027386543\n",
            "mean F1-score measured by cross validation:  0.9930183150801141\n"
          ],
          "name": "stdout"
        }
      ]
    }
  ]
}