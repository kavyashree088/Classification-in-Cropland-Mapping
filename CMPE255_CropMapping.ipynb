{
 "cells": [
  {
   "cell_type": "markdown",
   "metadata": {
    "id": "3DZXBS6ayF6W"
   },
   "source": [
    "## [CMPE255] Group Project: Cropland Classification\n",
    "\n",
    "####  Group3 \n",
    "Baijun Jian (013723034), Karen Lee (014521052), Kavyashree Chandrashekar (013856518)\n",
    "#### Dataset\n",
    "UCI Crop mapping using fused optical-radar dataset:\n",
    "https://archive.ics.uci.edu/ml/datasets/Crop+mapping+using+fused+optical-radar+data+set"
   ]
  },
  {
   "cell_type": "code",
   "execution_count": 1,
   "metadata": {
    "colab": {
     "base_uri": "https://localhost:8080/"
    },
    "id": "ASJ0HSiz4VZY",
    "outputId": "2ba53841-f7bf-467b-d0b1-6b64aed47800"
   },
   "outputs": [],
   "source": [
    "#!/usr/local/cuda/bin/nvcc --version\n",
    "#!nvidia-smi"
   ]
  },
  {
   "cell_type": "code",
   "execution_count": 2,
   "metadata": {
    "colab": {
     "base_uri": "https://localhost:8080/"
    },
    "id": "vOT9dTzq5rDu",
    "outputId": "d3c7f626-75d4-4e99-e4d3-2f5e83270e5a"
   },
   "outputs": [],
   "source": [
    "#import tensorflow as tf \n",
    "#device_name = tf.test.gpu_device_name()\n",
    "#if device_name != '/device:GPU:0':\n",
    "#  raise SystemError('GPU device not found')\n",
    "#print('Found GPU at: {}'.format(device_name))"
   ]
  },
  {
   "cell_type": "code",
   "execution_count": 3,
   "metadata": {
    "id": "Pb-lh6ivyF6W"
   },
   "outputs": [],
   "source": [
    "import warnings\n",
    "warnings.filterwarnings('ignore')\n",
    "warnings.simplefilter('ignore')"
   ]
  },
  {
   "cell_type": "code",
   "execution_count": 4,
   "metadata": {
    "id": "zsU9kELxyF6W"
   },
   "outputs": [],
   "source": [
    "import numpy as np\n",
    "import pandas as pd\n",
    "import seaborn as sns\n",
    "import matplotlib.pyplot as plt\n",
    "\n",
    "%matplotlib inline"
   ]
  },
  {
   "cell_type": "markdown",
   "metadata": {
    "id": "HPRGsKtNyF6X"
   },
   "source": [
    "### Load Dataset"
   ]
  },
  {
   "cell_type": "code",
   "execution_count": null,
   "metadata": {
    "colab": {
     "base_uri": "https://localhost:8080/"
    },
    "id": "0gdEFxwRyr0V",
    "outputId": "4d7d406d-cfcf-4a18-bc1e-8782a7a09aa0"
   },
   "outputs": [
    {
     "name": "stdout",
     "output_type": "stream",
     "text": [
      "--2020-11-28 16:39:32--  https://archive.ics.uci.edu/ml/machine-learning-databases/00525/data.zip\n",
      "Resolving archive.ics.uci.edu (archive.ics.uci.edu)... 128.195.10.252\n",
      "Connecting to archive.ics.uci.edu (archive.ics.uci.edu)|128.195.10.252|:443... connected.\n",
      "HTTP request sent, awaiting response... 200 OK\n",
      "Length: 158060686 (151M) [application/x-httpd-php]\n",
      "Saving to: ‘data.zip’\n",
      "\n",
      "data.zip            100%[===================>] 150.74M  19.8MB/s    in 8.7s    \n",
      "\n",
      "2020-11-28 16:39:41 (17.3 MB/s) - ‘data.zip’ saved [158060686/158060686]\n",
      "\n"
     ]
    }
   ],
   "source": [
    "# Download it using wget (Linux) or manually download it and place on the same folder as this notebook\n",
    "!wget https://archive.ics.uci.edu/ml/machine-learning-databases/00525/data.zip"
   ]
  },
  {
   "cell_type": "code",
   "execution_count": null,
   "metadata": {
    "colab": {
     "base_uri": "https://localhost:8080/"
    },
    "id": "Lxl3wOD5z7FE",
    "outputId": "921eb618-c0e3-4dc8-a65c-07312b13f1b1"
   },
   "outputs": [
    {
     "name": "stdout",
     "output_type": "stream",
     "text": [
      "Archive:  data.zip\n",
      "  inflating: WinnipegDataset.txt     \n"
     ]
    }
   ],
   "source": [
    "!unzip data.zip"
   ]
  },
  {
   "cell_type": "code",
   "execution_count": 5,
   "metadata": {
    "colab": {
     "base_uri": "https://localhost:8080/"
    },
    "id": "YoTfUqNU0QQV",
    "outputId": "cbb1fa02-cabe-48b7-fdb2-04d70613d6f1"
   },
   "outputs": [
    {
     "data": {
      "text/plain": [
       "(325834, 175)"
      ]
     },
     "execution_count": 5,
     "metadata": {},
     "output_type": "execute_result"
    }
   ],
   "source": [
    "df = pd.read_csv('../WinnipegDataset.txt', sep=',')\n",
    "df.shape"
   ]
  },
  {
   "cell_type": "markdown",
   "metadata": {
    "id": "R4-cRx1xyF6Y"
   },
   "source": [
    "### Data Exploration"
   ]
  },
  {
   "cell_type": "code",
   "execution_count": 6,
   "metadata": {
    "colab": {
     "base_uri": "https://localhost:8080/",
     "height": 253
    },
    "id": "2RAoMaxwyF6Y",
    "outputId": "4b76dd00-66cb-49f3-f0f5-8a5bf8162e71"
   },
   "outputs": [
    {
     "data": {
      "text/html": [
       "<div>\n",
       "<style scoped>\n",
       "    .dataframe tbody tr th:only-of-type {\n",
       "        vertical-align: middle;\n",
       "    }\n",
       "\n",
       "    .dataframe tbody tr th {\n",
       "        vertical-align: top;\n",
       "    }\n",
       "\n",
       "    .dataframe thead th {\n",
       "        text-align: right;\n",
       "    }\n",
       "</style>\n",
       "<table border=\"1\" class=\"dataframe\">\n",
       "  <thead>\n",
       "    <tr style=\"text-align: right;\">\n",
       "      <th></th>\n",
       "      <th>label</th>\n",
       "      <th>f1</th>\n",
       "      <th>f2</th>\n",
       "      <th>f3</th>\n",
       "      <th>f4</th>\n",
       "      <th>f5</th>\n",
       "      <th>f6</th>\n",
       "      <th>f7</th>\n",
       "      <th>f8</th>\n",
       "      <th>f9</th>\n",
       "      <th>...</th>\n",
       "      <th>f165</th>\n",
       "      <th>f166</th>\n",
       "      <th>f167</th>\n",
       "      <th>f168</th>\n",
       "      <th>f169</th>\n",
       "      <th>f170</th>\n",
       "      <th>f171</th>\n",
       "      <th>f172</th>\n",
       "      <th>f173</th>\n",
       "      <th>f174</th>\n",
       "    </tr>\n",
       "  </thead>\n",
       "  <tbody>\n",
       "    <tr>\n",
       "      <th>0</th>\n",
       "      <td>1</td>\n",
       "      <td>-13.559</td>\n",
       "      <td>-21.407</td>\n",
       "      <td>-11.4040</td>\n",
       "      <td>-15.248</td>\n",
       "      <td>-11.923</td>\n",
       "      <td>-15.291</td>\n",
       "      <td>-2.1548</td>\n",
       "      <td>-7.8474</td>\n",
       "      <td>-10.0020</td>\n",
       "      <td>...</td>\n",
       "      <td>0.18519</td>\n",
       "      <td>0.72602</td>\n",
       "      <td>5.3333</td>\n",
       "      <td>6.000000</td>\n",
       "      <td>0.29489</td>\n",
       "      <td>9.77780</td>\n",
       "      <td>2.44440</td>\n",
       "      <td>1.67700</td>\n",
       "      <td>0.20988</td>\n",
       "      <td>0.65422</td>\n",
       "    </tr>\n",
       "    <tr>\n",
       "      <th>1</th>\n",
       "      <td>1</td>\n",
       "      <td>-12.802</td>\n",
       "      <td>-20.335</td>\n",
       "      <td>-10.3990</td>\n",
       "      <td>-14.132</td>\n",
       "      <td>-11.096</td>\n",
       "      <td>-14.361</td>\n",
       "      <td>-2.4039</td>\n",
       "      <td>-7.5330</td>\n",
       "      <td>-9.9369</td>\n",
       "      <td>...</td>\n",
       "      <td>0.33333</td>\n",
       "      <td>-0.48751</td>\n",
       "      <td>2.1111</td>\n",
       "      <td>0.098765</td>\n",
       "      <td>0.83333</td>\n",
       "      <td>0.33333</td>\n",
       "      <td>0.33333</td>\n",
       "      <td>0.84869</td>\n",
       "      <td>0.50617</td>\n",
       "      <td>-0.18898</td>\n",
       "    </tr>\n",
       "    <tr>\n",
       "      <th>2</th>\n",
       "      <td>1</td>\n",
       "      <td>-12.431</td>\n",
       "      <td>-19.902</td>\n",
       "      <td>-10.0740</td>\n",
       "      <td>-13.598</td>\n",
       "      <td>-10.829</td>\n",
       "      <td>-14.048</td>\n",
       "      <td>-2.3566</td>\n",
       "      <td>-7.4717</td>\n",
       "      <td>-9.8283</td>\n",
       "      <td>...</td>\n",
       "      <td>0.25926</td>\n",
       "      <td>0.25298</td>\n",
       "      <td>2.2222</td>\n",
       "      <td>0.172840</td>\n",
       "      <td>0.68889</td>\n",
       "      <td>0.88889</td>\n",
       "      <td>0.66667</td>\n",
       "      <td>1.27300</td>\n",
       "      <td>0.30864</td>\n",
       "      <td>0.10483</td>\n",
       "    </tr>\n",
       "    <tr>\n",
       "      <th>3</th>\n",
       "      <td>1</td>\n",
       "      <td>-12.689</td>\n",
       "      <td>-19.529</td>\n",
       "      <td>-10.0280</td>\n",
       "      <td>-13.350</td>\n",
       "      <td>-11.056</td>\n",
       "      <td>-14.014</td>\n",
       "      <td>-2.6611</td>\n",
       "      <td>-6.8396</td>\n",
       "      <td>-9.5006</td>\n",
       "      <td>...</td>\n",
       "      <td>0.16049</td>\n",
       "      <td>0.43750</td>\n",
       "      <td>4.1111</td>\n",
       "      <td>0.320990</td>\n",
       "      <td>0.83333</td>\n",
       "      <td>0.33333</td>\n",
       "      <td>0.33333</td>\n",
       "      <td>1.14910</td>\n",
       "      <td>0.38272</td>\n",
       "      <td>0.41603</td>\n",
       "    </tr>\n",
       "    <tr>\n",
       "      <th>4</th>\n",
       "      <td>1</td>\n",
       "      <td>-12.686</td>\n",
       "      <td>-19.278</td>\n",
       "      <td>-9.8185</td>\n",
       "      <td>-13.108</td>\n",
       "      <td>-10.932</td>\n",
       "      <td>-13.939</td>\n",
       "      <td>-2.8675</td>\n",
       "      <td>-6.5919</td>\n",
       "      <td>-9.4594</td>\n",
       "      <td>...</td>\n",
       "      <td>0.18519</td>\n",
       "      <td>0.35000</td>\n",
       "      <td>4.0000</td>\n",
       "      <td>0.444440</td>\n",
       "      <td>0.68889</td>\n",
       "      <td>0.88889</td>\n",
       "      <td>0.66667</td>\n",
       "      <td>1.58110</td>\n",
       "      <td>0.20988</td>\n",
       "      <td>0.50000</td>\n",
       "    </tr>\n",
       "  </tbody>\n",
       "</table>\n",
       "<p>5 rows × 175 columns</p>\n",
       "</div>"
      ],
      "text/plain": [
       "   label      f1      f2       f3      f4      f5      f6      f7      f8  \\\n",
       "0      1 -13.559 -21.407 -11.4040 -15.248 -11.923 -15.291 -2.1548 -7.8474   \n",
       "1      1 -12.802 -20.335 -10.3990 -14.132 -11.096 -14.361 -2.4039 -7.5330   \n",
       "2      1 -12.431 -19.902 -10.0740 -13.598 -10.829 -14.048 -2.3566 -7.4717   \n",
       "3      1 -12.689 -19.529 -10.0280 -13.350 -11.056 -14.014 -2.6611 -6.8396   \n",
       "4      1 -12.686 -19.278  -9.8185 -13.108 -10.932 -13.939 -2.8675 -6.5919   \n",
       "\n",
       "        f9  ...     f165     f166    f167      f168     f169     f170  \\\n",
       "0 -10.0020  ...  0.18519  0.72602  5.3333  6.000000  0.29489  9.77780   \n",
       "1  -9.9369  ...  0.33333 -0.48751  2.1111  0.098765  0.83333  0.33333   \n",
       "2  -9.8283  ...  0.25926  0.25298  2.2222  0.172840  0.68889  0.88889   \n",
       "3  -9.5006  ...  0.16049  0.43750  4.1111  0.320990  0.83333  0.33333   \n",
       "4  -9.4594  ...  0.18519  0.35000  4.0000  0.444440  0.68889  0.88889   \n",
       "\n",
       "      f171     f172     f173     f174  \n",
       "0  2.44440  1.67700  0.20988  0.65422  \n",
       "1  0.33333  0.84869  0.50617 -0.18898  \n",
       "2  0.66667  1.27300  0.30864  0.10483  \n",
       "3  0.33333  1.14910  0.38272  0.41603  \n",
       "4  0.66667  1.58110  0.20988  0.50000  \n",
       "\n",
       "[5 rows x 175 columns]"
      ]
     },
     "execution_count": 6,
     "metadata": {},
     "output_type": "execute_result"
    }
   ],
   "source": [
    "df.head(5)"
   ]
  },
  {
   "cell_type": "code",
   "execution_count": 7,
   "metadata": {
    "colab": {
     "base_uri": "https://localhost:8080/"
    },
    "id": "Pt7S9XPdyF6Z",
    "outputId": "389a88a5-26f6-41d1-faa5-86790240c7e6"
   },
   "outputs": [
    {
     "name": "stdout",
     "output_type": "stream",
     "text": [
      "<class 'pandas.core.frame.DataFrame'>\n",
      "RangeIndex: 325834 entries, 0 to 325833\n",
      "Columns: 175 entries, label to f174\n",
      "dtypes: float64(169), int64(6)\n",
      "memory usage: 435.0 MB\n"
     ]
    }
   ],
   "source": [
    "df.info()"
   ]
  },
  {
   "cell_type": "code",
   "execution_count": 8,
   "metadata": {
    "colab": {
     "base_uri": "https://localhost:8080/",
     "height": 346
    },
    "id": "95PsRhWtyF6a",
    "outputId": "71e8c321-fd66-4af5-c168-282d04c88f2c"
   },
   "outputs": [
    {
     "data": {
      "text/html": [
       "<div>\n",
       "<style scoped>\n",
       "    .dataframe tbody tr th:only-of-type {\n",
       "        vertical-align: middle;\n",
       "    }\n",
       "\n",
       "    .dataframe tbody tr th {\n",
       "        vertical-align: top;\n",
       "    }\n",
       "\n",
       "    .dataframe thead th {\n",
       "        text-align: right;\n",
       "    }\n",
       "</style>\n",
       "<table border=\"1\" class=\"dataframe\">\n",
       "  <thead>\n",
       "    <tr style=\"text-align: right;\">\n",
       "      <th></th>\n",
       "      <th>label</th>\n",
       "      <th>f1</th>\n",
       "      <th>f2</th>\n",
       "      <th>f3</th>\n",
       "      <th>f4</th>\n",
       "      <th>f5</th>\n",
       "      <th>f6</th>\n",
       "      <th>f7</th>\n",
       "      <th>f8</th>\n",
       "      <th>f9</th>\n",
       "      <th>...</th>\n",
       "      <th>f165</th>\n",
       "      <th>f166</th>\n",
       "      <th>f167</th>\n",
       "      <th>f168</th>\n",
       "      <th>f169</th>\n",
       "      <th>f170</th>\n",
       "      <th>f171</th>\n",
       "      <th>f172</th>\n",
       "      <th>f173</th>\n",
       "      <th>f174</th>\n",
       "    </tr>\n",
       "  </thead>\n",
       "  <tbody>\n",
       "    <tr>\n",
       "      <th>count</th>\n",
       "      <td>325834.000000</td>\n",
       "      <td>325834.000000</td>\n",
       "      <td>325834.000000</td>\n",
       "      <td>325834.000000</td>\n",
       "      <td>325834.00000</td>\n",
       "      <td>325834.000000</td>\n",
       "      <td>325834.000000</td>\n",
       "      <td>325834.000000</td>\n",
       "      <td>325834.000000</td>\n",
       "      <td>325834.000000</td>\n",
       "      <td>...</td>\n",
       "      <td>325834.000000</td>\n",
       "      <td>325834.000000</td>\n",
       "      <td>325834.000000</td>\n",
       "      <td>325834.000000</td>\n",
       "      <td>325834.000000</td>\n",
       "      <td>325834.000000</td>\n",
       "      <td>325834.000000</td>\n",
       "      <td>325834.000000</td>\n",
       "      <td>325834.000000</td>\n",
       "      <td>325834.000000</td>\n",
       "    </tr>\n",
       "    <tr>\n",
       "      <th>mean</th>\n",
       "      <td>4.062421</td>\n",
       "      <td>-15.143602</td>\n",
       "      <td>-24.026035</td>\n",
       "      <td>-15.400034</td>\n",
       "      <td>-18.59383</td>\n",
       "      <td>-14.493472</td>\n",
       "      <td>-18.427329</td>\n",
       "      <td>0.256432</td>\n",
       "      <td>-8.882434</td>\n",
       "      <td>-8.626002</td>\n",
       "      <td>...</td>\n",
       "      <td>0.433834</td>\n",
       "      <td>0.329085</td>\n",
       "      <td>2.171177</td>\n",
       "      <td>0.080138</td>\n",
       "      <td>0.919604</td>\n",
       "      <td>0.174447</td>\n",
       "      <td>0.162900</td>\n",
       "      <td>0.403288</td>\n",
       "      <td>0.764646</td>\n",
       "      <td>0.667567</td>\n",
       "    </tr>\n",
       "    <tr>\n",
       "      <th>std</th>\n",
       "      <td>1.604617</td>\n",
       "      <td>3.504255</td>\n",
       "      <td>4.054214</td>\n",
       "      <td>3.267857</td>\n",
       "      <td>3.71163</td>\n",
       "      <td>3.189013</td>\n",
       "      <td>3.675741</td>\n",
       "      <td>1.682060</td>\n",
       "      <td>1.204040</td>\n",
       "      <td>2.002658</td>\n",
       "      <td>...</td>\n",
       "      <td>0.245857</td>\n",
       "      <td>0.442008</td>\n",
       "      <td>1.284653</td>\n",
       "      <td>0.182628</td>\n",
       "      <td>0.105953</td>\n",
       "      <td>0.373726</td>\n",
       "      <td>0.222008</td>\n",
       "      <td>0.480141</td>\n",
       "      <td>0.273847</td>\n",
       "      <td>0.471260</td>\n",
       "    </tr>\n",
       "    <tr>\n",
       "      <th>min</th>\n",
       "      <td>1.000000</td>\n",
       "      <td>-23.971000</td>\n",
       "      <td>-34.308000</td>\n",
       "      <td>-23.161000</td>\n",
       "      <td>-27.24500</td>\n",
       "      <td>-22.103000</td>\n",
       "      <td>-26.897000</td>\n",
       "      <td>-5.582600</td>\n",
       "      <td>-16.389000</td>\n",
       "      <td>-16.558000</td>\n",
       "      <td>...</td>\n",
       "      <td>0.111110</td>\n",
       "      <td>-1.000000</td>\n",
       "      <td>0.000000</td>\n",
       "      <td>0.000000</td>\n",
       "      <td>0.106190</td>\n",
       "      <td>0.000000</td>\n",
       "      <td>0.000000</td>\n",
       "      <td>-0.000000</td>\n",
       "      <td>0.111110</td>\n",
       "      <td>-1.000000</td>\n",
       "    </tr>\n",
       "    <tr>\n",
       "      <th>25%</th>\n",
       "      <td>3.000000</td>\n",
       "      <td>-17.848000</td>\n",
       "      <td>-27.119000</td>\n",
       "      <td>-17.563000</td>\n",
       "      <td>-21.44900</td>\n",
       "      <td>-16.989000</td>\n",
       "      <td>-21.450000</td>\n",
       "      <td>-1.037800</td>\n",
       "      <td>-9.658500</td>\n",
       "      <td>-10.070000</td>\n",
       "      <td>...</td>\n",
       "      <td>0.259260</td>\n",
       "      <td>0.000000</td>\n",
       "      <td>1.000000</td>\n",
       "      <td>0.000000</td>\n",
       "      <td>0.833330</td>\n",
       "      <td>0.000000</td>\n",
       "      <td>0.000000</td>\n",
       "      <td>-0.000000</td>\n",
       "      <td>0.506170</td>\n",
       "      <td>0.357140</td>\n",
       "    </tr>\n",
       "    <tr>\n",
       "      <th>50%</th>\n",
       "      <td>4.000000</td>\n",
       "      <td>-15.992000</td>\n",
       "      <td>-25.064000</td>\n",
       "      <td>-16.164000</td>\n",
       "      <td>-19.58800</td>\n",
       "      <td>-15.099000</td>\n",
       "      <td>-19.282000</td>\n",
       "      <td>0.309180</td>\n",
       "      <td>-8.915900</td>\n",
       "      <td>-8.733100</td>\n",
       "      <td>...</td>\n",
       "      <td>0.358020</td>\n",
       "      <td>0.357140</td>\n",
       "      <td>2.000000</td>\n",
       "      <td>0.000000</td>\n",
       "      <td>1.000000</td>\n",
       "      <td>0.000000</td>\n",
       "      <td>0.000000</td>\n",
       "      <td>-0.000000</td>\n",
       "      <td>1.000000</td>\n",
       "      <td>1.000000</td>\n",
       "    </tr>\n",
       "    <tr>\n",
       "      <th>75%</th>\n",
       "      <td>6.000000</td>\n",
       "      <td>-11.786000</td>\n",
       "      <td>-20.387000</td>\n",
       "      <td>-13.427000</td>\n",
       "      <td>-15.65000</td>\n",
       "      <td>-11.735000</td>\n",
       "      <td>-15.514000</td>\n",
       "      <td>1.558200</td>\n",
       "      <td>-8.190200</td>\n",
       "      <td>-7.158100</td>\n",
       "      <td>...</td>\n",
       "      <td>0.506170</td>\n",
       "      <td>0.661440</td>\n",
       "      <td>3.000000</td>\n",
       "      <td>0.172840</td>\n",
       "      <td>1.000000</td>\n",
       "      <td>0.333330</td>\n",
       "      <td>0.333330</td>\n",
       "      <td>0.848690</td>\n",
       "      <td>1.000000</td>\n",
       "      <td>1.000000</td>\n",
       "    </tr>\n",
       "    <tr>\n",
       "      <th>max</th>\n",
       "      <td>7.000000</td>\n",
       "      <td>2.535600</td>\n",
       "      <td>-7.589100</td>\n",
       "      <td>1.104000</td>\n",
       "      <td>0.77491</td>\n",
       "      <td>-0.887390</td>\n",
       "      <td>0.951780</td>\n",
       "      <td>7.029900</td>\n",
       "      <td>-1.175400</td>\n",
       "      <td>-0.924610</td>\n",
       "      <td>...</td>\n",
       "      <td>1.000000</td>\n",
       "      <td>1.000000</td>\n",
       "      <td>12.444000</td>\n",
       "      <td>25.951000</td>\n",
       "      <td>1.000000</td>\n",
       "      <td>66.667000</td>\n",
       "      <td>6.666700</td>\n",
       "      <td>2.197200</td>\n",
       "      <td>1.000000</td>\n",
       "      <td>1.000000</td>\n",
       "    </tr>\n",
       "  </tbody>\n",
       "</table>\n",
       "<p>8 rows × 175 columns</p>\n",
       "</div>"
      ],
      "text/plain": [
       "               label             f1             f2             f3  \\\n",
       "count  325834.000000  325834.000000  325834.000000  325834.000000   \n",
       "mean        4.062421     -15.143602     -24.026035     -15.400034   \n",
       "std         1.604617       3.504255       4.054214       3.267857   \n",
       "min         1.000000     -23.971000     -34.308000     -23.161000   \n",
       "25%         3.000000     -17.848000     -27.119000     -17.563000   \n",
       "50%         4.000000     -15.992000     -25.064000     -16.164000   \n",
       "75%         6.000000     -11.786000     -20.387000     -13.427000   \n",
       "max         7.000000       2.535600      -7.589100       1.104000   \n",
       "\n",
       "                 f4             f5             f6             f7  \\\n",
       "count  325834.00000  325834.000000  325834.000000  325834.000000   \n",
       "mean      -18.59383     -14.493472     -18.427329       0.256432   \n",
       "std         3.71163       3.189013       3.675741       1.682060   \n",
       "min       -27.24500     -22.103000     -26.897000      -5.582600   \n",
       "25%       -21.44900     -16.989000     -21.450000      -1.037800   \n",
       "50%       -19.58800     -15.099000     -19.282000       0.309180   \n",
       "75%       -15.65000     -11.735000     -15.514000       1.558200   \n",
       "max         0.77491      -0.887390       0.951780       7.029900   \n",
       "\n",
       "                  f8             f9  ...           f165           f166  \\\n",
       "count  325834.000000  325834.000000  ...  325834.000000  325834.000000   \n",
       "mean       -8.882434      -8.626002  ...       0.433834       0.329085   \n",
       "std         1.204040       2.002658  ...       0.245857       0.442008   \n",
       "min       -16.389000     -16.558000  ...       0.111110      -1.000000   \n",
       "25%        -9.658500     -10.070000  ...       0.259260       0.000000   \n",
       "50%        -8.915900      -8.733100  ...       0.358020       0.357140   \n",
       "75%        -8.190200      -7.158100  ...       0.506170       0.661440   \n",
       "max        -1.175400      -0.924610  ...       1.000000       1.000000   \n",
       "\n",
       "                f167           f168           f169           f170  \\\n",
       "count  325834.000000  325834.000000  325834.000000  325834.000000   \n",
       "mean        2.171177       0.080138       0.919604       0.174447   \n",
       "std         1.284653       0.182628       0.105953       0.373726   \n",
       "min         0.000000       0.000000       0.106190       0.000000   \n",
       "25%         1.000000       0.000000       0.833330       0.000000   \n",
       "50%         2.000000       0.000000       1.000000       0.000000   \n",
       "75%         3.000000       0.172840       1.000000       0.333330   \n",
       "max        12.444000      25.951000       1.000000      66.667000   \n",
       "\n",
       "                f171           f172           f173           f174  \n",
       "count  325834.000000  325834.000000  325834.000000  325834.000000  \n",
       "mean        0.162900       0.403288       0.764646       0.667567  \n",
       "std         0.222008       0.480141       0.273847       0.471260  \n",
       "min         0.000000      -0.000000       0.111110      -1.000000  \n",
       "25%         0.000000      -0.000000       0.506170       0.357140  \n",
       "50%         0.000000      -0.000000       1.000000       1.000000  \n",
       "75%         0.333330       0.848690       1.000000       1.000000  \n",
       "max         6.666700       2.197200       1.000000       1.000000  \n",
       "\n",
       "[8 rows x 175 columns]"
      ]
     },
     "execution_count": 8,
     "metadata": {},
     "output_type": "execute_result"
    }
   ],
   "source": [
    "df.describe()"
   ]
  },
  {
   "cell_type": "code",
   "execution_count": 9,
   "metadata": {
    "colab": {
     "base_uri": "https://localhost:8080/"
    },
    "id": "t695AeZRyF6a",
    "outputId": "0471feef-25e1-410c-d8ee-6cd6b8e574a3"
   },
   "outputs": [
    {
     "data": {
      "text/plain": [
       "label    0\n",
       "f1       0\n",
       "f2       0\n",
       "f3       0\n",
       "f4       0\n",
       "        ..\n",
       "f170     0\n",
       "f171     0\n",
       "f172     0\n",
       "f173     0\n",
       "f174     0\n",
       "Length: 175, dtype: int64"
      ]
     },
     "execution_count": 9,
     "metadata": {},
     "output_type": "execute_result"
    }
   ],
   "source": [
    "df.isnull().sum(axis=0)"
   ]
  },
  {
   "cell_type": "code",
   "execution_count": 10,
   "metadata": {
    "colab": {
     "base_uri": "https://localhost:8080/"
    },
    "id": "fZ6vn4qNyF6a",
    "outputId": "09a11f4d-086c-4328-af7c-406186e94ace"
   },
   "outputs": [
    {
     "data": {
      "text/plain": [
       "array([1, 2, 3, 4, 5, 6, 7])"
      ]
     },
     "execution_count": 10,
     "metadata": {},
     "output_type": "execute_result"
    }
   ],
   "source": [
    "df['label'].unique()"
   ]
  },
  {
   "cell_type": "code",
   "execution_count": 11,
   "metadata": {
    "colab": {
     "base_uri": "https://localhost:8080/",
     "height": 469
    },
    "id": "TjhQ_uObyF6a",
    "outputId": "d171ad92-3458-4ce1-d732-780070084e3a"
   },
   "outputs": [
    {
     "name": "stdout",
     "output_type": "stream",
     "text": [
      "Class=1, n=39162 (12.019%)\n",
      "Class=2, n=3598 (1.104%)\n",
      "Class=3, n=75673 (23.224%)\n",
      "Class=4, n=74067 (22.732%)\n",
      "Class=5, n=47117 (14.460%)\n",
      "Class=6, n=85074 (26.110%)\n",
      "Class=7, n=1143 (0.351%)\n"
     ]
    },
    {
     "data": {
      "image/png": "[encoded data removed]",
      "text/plain": [
       "<Figure size 720x360 with 1 Axes>"
      ]
     },
     "metadata": {
      "needs_background": "light"
     },
     "output_type": "display_data"
    }
   ],
   "source": [
    "from collections import Counter\n",
    "\n",
    "counter = Counter(sorted(df['label']))\n",
    "\n",
    "for k,v in counter.items():\n",
    "    per = v/len(df['label'])*100\n",
    "    print('Class=%d, n=%d (%.3f%%)'%(k, v, per))\n",
    "\n",
    "#plot class distribution\n",
    "plt.figure(figsize=(10, 5))\n",
    "plt.title('Distribution of Classes')\n",
    "plt.bar(counter.keys(), counter.values())\n",
    "plt.xlabel('class')\n",
    "plt.ylabel('count')\n",
    "plt.show()"
   ]
  },
  {
   "cell_type": "code",
   "execution_count": 12,
   "metadata": {
    "colab": {
     "base_uri": "https://localhost:8080/",
     "height": 592
    },
    "id": "bc0p-gbnNTy4",
    "outputId": "e0a0253f-29fc-4e96-bec7-2e36abdac866"
   },
   "outputs": [
    {
     "data": {
      "image/png": "[encoded data removed]",
      "text/plain": [
       "<Figure size 720x720 with 1 Axes>"
      ]
     },
     "metadata": {
      "needs_background": "light"
     },
     "output_type": "display_data"
    }
   ],
   "source": [
    "features = df.iloc[:,1:]\n",
    "labels = df['label']\n",
    "\n",
    "from sklearn.decomposition import PCA \n",
    "pca = PCA(n_components = 2)\n",
    "features = pca.fit_transform(features)\n",
    "\n",
    "plt.figure(figsize = (10, 10))\n",
    "plt.scatter(features[:,0], features[:,1], c=labels, cmap='rainbow')\n",
    "plt.show()"
   ]
  },
  {
   "cell_type": "markdown",
   "metadata": {
    "id": "vNemqdWNyF6a"
   },
   "source": [
    "### Selecting Features"
   ]
  },
  {
   "cell_type": "markdown",
   "metadata": {
    "id": "D16YbCKpTMdD"
   },
   "source": [
    "Embedded methods using Lasso regularisation, SelectFromModel"
   ]
  },
  {
   "cell_type": "code",
   "execution_count": 13,
   "metadata": {
    "id": "s28_hkzuTMdD"
   },
   "outputs": [],
   "source": [
    "from sklearn.linear_model import LogisticRegression, LassoCV\n",
    "from sklearn.feature_selection import SelectFromModel\n",
    "from sklearn.preprocessing import StandardScaler"
   ]
  },
  {
   "cell_type": "code",
   "execution_count": 14,
   "metadata": {
    "id": "hxzcIGO-TMdD"
   },
   "outputs": [],
   "source": [
    "df_copy = df.copy()\n",
    "\n",
    "features = df_copy.iloc[:,1:]\n",
    "labels = df_copy['label']"
   ]
  },
  {
   "cell_type": "code",
   "execution_count": 15,
   "metadata": {
    "colab": {
     "base_uri": "https://localhost:8080/"
    },
    "id": "IiAnNAvfTMdD",
    "outputId": "02052a26-1300-4829-9efb-de2f8cee7c58"
   },
   "outputs": [
    {
     "data": {
      "text/plain": [
       "StandardScaler()"
      ]
     },
     "execution_count": 15,
     "metadata": {},
     "output_type": "execute_result"
    }
   ],
   "source": [
    "from sklearn.preprocessing import StandardScaler\n",
    "\n",
    "scaler = StandardScaler()\n",
    "scaler.fit(features)"
   ]
  },
  {
   "cell_type": "markdown",
   "metadata": {},
   "source": [
    "#### LogisticRegression L2 "
   ]
  },
  {
   "cell_type": "code",
   "execution_count": 16,
   "metadata": {
    "colab": {
     "base_uri": "https://localhost:8080/"
    },
    "id": "-lMyke8pTMdE",
    "outputId": "285db178-42bf-42b0-d6e8-b03d6b50d29a"
   },
   "outputs": [
    {
     "data": {
      "text/plain": [
       "SelectFromModel(estimator=LogisticRegression(C=1))"
      ]
     },
     "execution_count": 16,
     "metadata": {},
     "output_type": "execute_result"
    }
   ],
   "source": [
    "sel_ = SelectFromModel(LogisticRegression(C=1, penalty='l2'))\n",
    "sel_.fit(scaler.transform(features), labels)"
   ]
  },
  {
   "cell_type": "code",
   "execution_count": 17,
   "metadata": {
    "colab": {
     "base_uri": "https://localhost:8080/"
    },
    "id": "zhDv38f8TMdE",
    "outputId": "6849a187-6d46-4316-ec47-91831c8e6075"
   },
   "outputs": [
    {
     "name": "stdout",
     "output_type": "stream",
     "text": [
      "total features: 174\n",
      "selected features: 67\n"
     ]
    }
   ],
   "source": [
    "selected_feat = features.columns[(sel_.get_support())]\n",
    "print('total features: {}'.format((features.shape[1])))\n",
    "print('selected features: {}'.format(len(selected_feat)))"
   ]
  },
  {
   "cell_type": "code",
   "execution_count": 18,
   "metadata": {
    "colab": {
     "base_uri": "https://localhost:8080/"
    },
    "id": "yn3JYJyNTMdE",
    "outputId": "bfa12e6e-2ae0-4573-c6c5-30164d9f8188"
   },
   "outputs": [
    {
     "data": {
      "text/plain": [
       "0"
      ]
     },
     "execution_count": 18,
     "metadata": {},
     "output_type": "execute_result"
    }
   ],
   "source": [
    "np.sum(sel_.estimator_.coef_ == 0)"
   ]
  },
  {
   "cell_type": "code",
   "execution_count": 19,
   "metadata": {
    "colab": {
     "base_uri": "https://localhost:8080/"
    },
    "id": "Rkd1JL-vTMdE",
    "outputId": "2a2996cb-1443-4f4b-87e1-5b59ab8fd9ec"
   },
   "outputs": [
    {
     "data": {
      "text/plain": [
       "((325834, 67), (325834,))"
      ]
     },
     "execution_count": 19,
     "metadata": {},
     "output_type": "execute_result"
    }
   ],
   "source": [
    "X_lasso = sel_.transform(features)\n",
    "y_lasso = labels\n",
    "\n",
    "X_lasso.shape, y_lasso.shape"
   ]
  },
  {
   "cell_type": "markdown",
   "metadata": {},
   "source": [
    "#### Lasso Cross Validation(L1)"
   ]
  },
  {
   "cell_type": "code",
   "execution_count": 20,
   "metadata": {},
   "outputs": [
    {
     "name": "stdout",
     "output_type": "stream",
     "text": [
      "total features: 174\n",
      "selected features: 45\n",
      "features with zero: 129\n"
     ]
    }
   ],
   "source": [
    "sel_cv = SelectFromModel(LassoCV())\n",
    "sel_cv.fit(scaler.transform(features), labels)\n",
    "selected_feat = features.columns[(sel_cv.get_support())]\n",
    "print('total features: {}'.format((features.shape[1])))\n",
    "print('selected features: {}'.format(len(selected_feat)))\n",
    "print('features with zero: {}'.format(np.sum(sel_cv.estimator_.coef_ == 0)))"
   ]
  },
  {
   "cell_type": "code",
   "execution_count": 22,
   "metadata": {},
   "outputs": [
    {
     "data": {
      "text/plain": [
       "((325834, 45), (325834,))"
      ]
     },
     "execution_count": 22,
     "metadata": {},
     "output_type": "execute_result"
    }
   ],
   "source": [
    "X_lasso_cv = sel_cv.transform(features)\n",
    "y_lasso_cv = labels\n",
    "X_lasso_cv.shape, y_lasso_cv.shape"
   ]
  },
  {
   "cell_type": "markdown",
   "metadata": {
    "id": "mGmtYGH4yF6b"
   },
   "source": [
    "### Divide dataset into train and test dataset"
   ]
  },
  {
   "cell_type": "code",
   "execution_count": 23,
   "metadata": {
    "id": "rl-ksMZ9TMdE"
   },
   "outputs": [],
   "source": [
    "X = X_lasso\n",
    "y = y_lasso"
   ]
  },
  {
   "cell_type": "code",
   "execution_count": 24,
   "metadata": {
    "colab": {
     "base_uri": "https://localhost:8080/"
    },
    "id": "i-e39xOuTMdE",
    "outputId": "d493af9f-9f3d-49c3-a2bc-132964342e29"
   },
   "outputs": [
    {
     "name": "stdout",
     "output_type": "stream",
     "text": [
      "Train shape L2:  (228083, 67)\n",
      "Test shape L2:  (97751, 67)\n",
      "Train shape L1: (228083, 45)\n",
      "Train shape L1: (97751, 45)\n"
     ]
    }
   ],
   "source": [
    "from sklearn.model_selection import train_test_split\n",
    "\n",
    "X_train, X_test, y_train, y_test = train_test_split(X, y, test_size=0.3, random_state=42)\n",
    "X_train_cv, X_test_cv,y_train_cv, y_test_cy = train_test_split(X_lasso_cv, y_lasso_cv, test_size=0.3, random_state=42)\n",
    "\n",
    "\n",
    "print('Train shape L2: ', X_train.shape)\n",
    "print('Test shape L2: ', X_test.shape)\n",
    "print('Train shape L1:', X_train_cv.shape)\n",
    "print('Train shape L1:', X_test_cv.shape)"
   ]
  },
  {
   "cell_type": "code",
   "execution_count": 25,
   "metadata": {},
   "outputs": [],
   "source": [
    "# create training set for both L2, and L1(X_train_cv)\n",
    "training_sets = [(X_train, y_train), (X_train_cv, y_train_cv)]"
   ]
  },
  {
   "cell_type": "markdown",
   "metadata": {
    "id": "ultNaJjbTMdE"
   },
   "source": [
    "### Model Selection"
   ]
  },
  {
   "cell_type": "code",
   "execution_count": 26,
   "metadata": {
    "id": "p5X0W1eDTMdE"
   },
   "outputs": [],
   "source": [
    "#ensemble methods\n",
    "from sklearn.ensemble import RandomForestClassifier\n",
    "from sklearn.ensemble import BaggingClassifier\n",
    "from sklearn.ensemble import ExtraTreesClassifier\n",
    "from xgboost import XGBClassifier\n",
    "from sklearn.ensemble import GradientBoostingClassifier\n",
    "from sklearn.neural_network import MLPClassifier\n",
    "\n",
    "from sklearn.metrics import accuracy_score\n",
    "from sklearn.metrics import f1_score\n",
    "from sklearn.metrics import mean_squared_error\n",
    "from sklearn.metrics import classification_report"
   ]
  },
  {
   "cell_type": "code",
   "execution_count": 27,
   "metadata": {
    "id": "U6jlOAXRTMdE"
   },
   "outputs": [],
   "source": [
    "rfc = RandomForestClassifier()\n",
    "bc = BaggingClassifier()\n",
    "etc = ExtraTreesClassifier()\n",
    "xgb = XGBClassifier()\n",
    "gb = GradientBoostingClassifier()\n",
    "mlp = MLPClassifier(solver='lbfgs', activation='logistic', alpha=1e-5,hidden_layer_sizes=(5, 2), random_state=1)"
   ]
  },
  {
   "cell_type": "code",
   "execution_count": 28,
   "metadata": {
    "id": "rbeSA5KrTMdE"
   },
   "outputs": [],
   "source": [
    "clfs = {'RF': rfc, 'BgC': bc, 'ETC': etc, 'XGB': xgb, 'GDBoost':gb, 'MLP': mlp}"
   ]
  },
  {
   "cell_type": "code",
   "execution_count": 29,
   "metadata": {
    "id": "wMLN0XT8vEQ2"
   },
   "outputs": [],
   "source": [
    "def train_classifier(model, X, y):    \n",
    "    model.fit(X, y)\n",
    "    \n",
    "def predict_labels(model, X):\n",
    "    return (model.predict(X))"
   ]
  },
  {
   "cell_type": "code",
   "execution_count": 30,
   "metadata": {
    "id": "7GBYyfEWd7Qd"
   },
   "outputs": [
    {
     "ename": "KeyboardInterrupt",
     "evalue": "",
     "output_type": "error",
     "traceback": [
      "\u001b[0;31m---------------------------------------------------------------------------\u001b[0m",
      "\u001b[0;31mKeyboardInterrupt\u001b[0m                         Traceback (most recent call last)",
      "\u001b[0;32m<ipython-input-30-ae15f740a9e5>\u001b[0m in \u001b[0;36m<module>\u001b[0;34m\u001b[0m\n\u001b[1;32m      6\u001b[0m     \u001b[0my_train\u001b[0m \u001b[0;34m=\u001b[0m \u001b[0mtraining_set\u001b[0m\u001b[0;34m[\u001b[0m\u001b[0;36m1\u001b[0m\u001b[0;34m]\u001b[0m\u001b[0;34m\u001b[0m\u001b[0;34m\u001b[0m\u001b[0m\n\u001b[1;32m      7\u001b[0m     \u001b[0;32mfor\u001b[0m \u001b[0mk\u001b[0m\u001b[0;34m,\u001b[0m \u001b[0mm\u001b[0m \u001b[0;32min\u001b[0m \u001b[0mclfs\u001b[0m\u001b[0;34m.\u001b[0m\u001b[0mitems\u001b[0m\u001b[0;34m(\u001b[0m\u001b[0;34m)\u001b[0m\u001b[0;34m:\u001b[0m\u001b[0;34m\u001b[0m\u001b[0;34m\u001b[0m\u001b[0m\n\u001b[0;32m----> 8\u001b[0;31m         \u001b[0mm\u001b[0m\u001b[0;34m.\u001b[0m\u001b[0mfit\u001b[0m\u001b[0;34m(\u001b[0m\u001b[0mX_train\u001b[0m\u001b[0;34m,\u001b[0m \u001b[0my_train\u001b[0m\u001b[0;34m)\u001b[0m\u001b[0;34m\u001b[0m\u001b[0;34m\u001b[0m\u001b[0m\n\u001b[0m\u001b[1;32m      9\u001b[0m         \u001b[0mpred\u001b[0m \u001b[0;34m=\u001b[0m \u001b[0mm\u001b[0m\u001b[0;34m.\u001b[0m\u001b[0mpredict\u001b[0m\u001b[0;34m(\u001b[0m\u001b[0mX_test\u001b[0m\u001b[0;34m)\u001b[0m\u001b[0;34m\u001b[0m\u001b[0;34m\u001b[0m\u001b[0m\n\u001b[1;32m     10\u001b[0m         \u001b[0mpred_accuracy_scores\u001b[0m\u001b[0;34m.\u001b[0m\u001b[0mappend\u001b[0m\u001b[0;34m(\u001b[0m\u001b[0;34m(\u001b[0m\u001b[0mk\u001b[0m\u001b[0;34m,\u001b[0m \u001b[0;34m[\u001b[0m\u001b[0maccuracy_score\u001b[0m\u001b[0;34m(\u001b[0m\u001b[0my_test\u001b[0m\u001b[0;34m,\u001b[0m\u001b[0mpred\u001b[0m\u001b[0;34m)\u001b[0m\u001b[0;34m]\u001b[0m\u001b[0;34m)\u001b[0m\u001b[0;34m)\u001b[0m\u001b[0;34m\u001b[0m\u001b[0;34m\u001b[0m\u001b[0m\n",
      "\u001b[0;32m/usr/local/lib/python3.9/site-packages/sklearn/ensemble/_gb.py\u001b[0m in \u001b[0;36mfit\u001b[0;34m(self, X, y, sample_weight, monitor)\u001b[0m\n\u001b[1;32m    496\u001b[0m \u001b[0;34m\u001b[0m\u001b[0m\n\u001b[1;32m    497\u001b[0m         \u001b[0;31m# fit the boosting stages\u001b[0m\u001b[0;34m\u001b[0m\u001b[0;34m\u001b[0m\u001b[0;34m\u001b[0m\u001b[0m\n\u001b[0;32m--> 498\u001b[0;31m         n_stages = self._fit_stages(\n\u001b[0m\u001b[1;32m    499\u001b[0m             \u001b[0mX\u001b[0m\u001b[0;34m,\u001b[0m \u001b[0my\u001b[0m\u001b[0;34m,\u001b[0m \u001b[0mraw_predictions\u001b[0m\u001b[0;34m,\u001b[0m \u001b[0msample_weight\u001b[0m\u001b[0;34m,\u001b[0m \u001b[0mself\u001b[0m\u001b[0;34m.\u001b[0m\u001b[0m_rng\u001b[0m\u001b[0;34m,\u001b[0m \u001b[0mX_val\u001b[0m\u001b[0;34m,\u001b[0m \u001b[0my_val\u001b[0m\u001b[0;34m,\u001b[0m\u001b[0;34m\u001b[0m\u001b[0;34m\u001b[0m\u001b[0m\n\u001b[1;32m    500\u001b[0m             sample_weight_val, begin_at_stage, monitor, X_idx_sorted)\n",
      "\u001b[0;32m/usr/local/lib/python3.9/site-packages/sklearn/ensemble/_gb.py\u001b[0m in \u001b[0;36m_fit_stages\u001b[0;34m(self, X, y, raw_predictions, sample_weight, random_state, X_val, y_val, sample_weight_val, begin_at_stage, monitor, X_idx_sorted)\u001b[0m\n\u001b[1;32m    553\u001b[0m \u001b[0;34m\u001b[0m\u001b[0m\n\u001b[1;32m    554\u001b[0m             \u001b[0;31m# fit next stage of trees\u001b[0m\u001b[0;34m\u001b[0m\u001b[0;34m\u001b[0m\u001b[0;34m\u001b[0m\u001b[0m\n\u001b[0;32m--> 555\u001b[0;31m             raw_predictions = self._fit_stage(\n\u001b[0m\u001b[1;32m    556\u001b[0m                 \u001b[0mi\u001b[0m\u001b[0;34m,\u001b[0m \u001b[0mX\u001b[0m\u001b[0;34m,\u001b[0m \u001b[0my\u001b[0m\u001b[0;34m,\u001b[0m \u001b[0mraw_predictions\u001b[0m\u001b[0;34m,\u001b[0m \u001b[0msample_weight\u001b[0m\u001b[0;34m,\u001b[0m \u001b[0msample_mask\u001b[0m\u001b[0;34m,\u001b[0m\u001b[0;34m\u001b[0m\u001b[0;34m\u001b[0m\u001b[0m\n\u001b[1;32m    557\u001b[0m                 random_state, X_idx_sorted, X_csc, X_csr)\n",
      "\u001b[0;32m/usr/local/lib/python3.9/site-packages/sklearn/ensemble/_gb.py\u001b[0m in \u001b[0;36m_fit_stage\u001b[0;34m(self, i, X, y, raw_predictions, sample_weight, sample_mask, random_state, X_idx_sorted, X_csc, X_csr)\u001b[0m\n\u001b[1;32m    209\u001b[0m \u001b[0;34m\u001b[0m\u001b[0m\n\u001b[1;32m    210\u001b[0m             \u001b[0mX\u001b[0m \u001b[0;34m=\u001b[0m \u001b[0mX_csr\u001b[0m \u001b[0;32mif\u001b[0m \u001b[0mX_csr\u001b[0m \u001b[0;32mis\u001b[0m \u001b[0;32mnot\u001b[0m \u001b[0;32mNone\u001b[0m \u001b[0;32melse\u001b[0m \u001b[0mX\u001b[0m\u001b[0;34m\u001b[0m\u001b[0;34m\u001b[0m\u001b[0m\n\u001b[0;32m--> 211\u001b[0;31m             tree.fit(X, residual, sample_weight=sample_weight,\n\u001b[0m\u001b[1;32m    212\u001b[0m                      check_input=False, X_idx_sorted=X_idx_sorted)\n\u001b[1;32m    213\u001b[0m \u001b[0;34m\u001b[0m\u001b[0m\n",
      "\u001b[0;32m/usr/local/lib/python3.9/site-packages/sklearn/tree/_classes.py\u001b[0m in \u001b[0;36mfit\u001b[0;34m(self, X, y, sample_weight, check_input, X_idx_sorted)\u001b[0m\n\u001b[1;32m   1240\u001b[0m         \"\"\"\n\u001b[1;32m   1241\u001b[0m \u001b[0;34m\u001b[0m\u001b[0m\n\u001b[0;32m-> 1242\u001b[0;31m         super().fit(\n\u001b[0m\u001b[1;32m   1243\u001b[0m             \u001b[0mX\u001b[0m\u001b[0;34m,\u001b[0m \u001b[0my\u001b[0m\u001b[0;34m,\u001b[0m\u001b[0;34m\u001b[0m\u001b[0;34m\u001b[0m\u001b[0m\n\u001b[1;32m   1244\u001b[0m             \u001b[0msample_weight\u001b[0m\u001b[0;34m=\u001b[0m\u001b[0msample_weight\u001b[0m\u001b[0;34m,\u001b[0m\u001b[0;34m\u001b[0m\u001b[0;34m\u001b[0m\u001b[0m\n",
      "\u001b[0;32m/usr/local/lib/python3.9/site-packages/sklearn/tree/_classes.py\u001b[0m in \u001b[0;36mfit\u001b[0;34m(self, X, y, sample_weight, check_input, X_idx_sorted)\u001b[0m\n\u001b[1;32m    373\u001b[0m                                            min_impurity_split)\n\u001b[1;32m    374\u001b[0m \u001b[0;34m\u001b[0m\u001b[0m\n\u001b[0;32m--> 375\u001b[0;31m         \u001b[0mbuilder\u001b[0m\u001b[0;34m.\u001b[0m\u001b[0mbuild\u001b[0m\u001b[0;34m(\u001b[0m\u001b[0mself\u001b[0m\u001b[0;34m.\u001b[0m\u001b[0mtree_\u001b[0m\u001b[0;34m,\u001b[0m \u001b[0mX\u001b[0m\u001b[0;34m,\u001b[0m \u001b[0my\u001b[0m\u001b[0;34m,\u001b[0m \u001b[0msample_weight\u001b[0m\u001b[0;34m,\u001b[0m \u001b[0mX_idx_sorted\u001b[0m\u001b[0;34m)\u001b[0m\u001b[0;34m\u001b[0m\u001b[0;34m\u001b[0m\u001b[0m\n\u001b[0m\u001b[1;32m    376\u001b[0m \u001b[0;34m\u001b[0m\u001b[0m\n\u001b[1;32m    377\u001b[0m         \u001b[0;32mif\u001b[0m \u001b[0mself\u001b[0m\u001b[0;34m.\u001b[0m\u001b[0mn_outputs_\u001b[0m \u001b[0;34m==\u001b[0m \u001b[0;36m1\u001b[0m \u001b[0;32mand\u001b[0m \u001b[0mis_classifier\u001b[0m\u001b[0;34m(\u001b[0m\u001b[0mself\u001b[0m\u001b[0;34m)\u001b[0m\u001b[0;34m:\u001b[0m\u001b[0;34m\u001b[0m\u001b[0;34m\u001b[0m\u001b[0m\n",
      "\u001b[0;31mKeyboardInterrupt\u001b[0m: "
     ]
    }
   ],
   "source": [
    "pred_accuracy_scores = []\n",
    "pred_f1_scores=[]\n",
    "pred_rmse = []\n",
    "for training_set in training_sets:\n",
    "    X_train = training_set[0]\n",
    "    y_train = training_set[1]\n",
    "    for k, m in clfs.items():    \n",
    "        m.fit(X_train, y_train)\n",
    "        pred = m.predict(X_test)\n",
    "        pred_accuracy_scores.append((k, [accuracy_score(y_test,pred)]))\n",
    "        pred_f1_scores.append((k, [f1_score(y_test, pred, average='macro')]))\n",
    "        pred_rmse.append((k, [np.math.sqrt(mean_squared_error(y_test, pred))])) "
   ]
  },
  {
   "cell_type": "code",
   "execution_count": null,
   "metadata": {
    "colab": {
     "base_uri": "https://localhost:8080/"
    },
    "id": "zIa8tBnteHJ5",
    "outputId": "7934de3f-4aed-4ff8-9233-72f47377a34f"
   },
   "outputs": [],
   "source": [
    "pred_accuracy_scores"
   ]
  },
  {
   "cell_type": "code",
   "execution_count": null,
   "metadata": {
    "colab": {
     "base_uri": "https://localhost:8080/"
    },
    "id": "KJOuIl9TeLYB",
    "outputId": "003b921d-3d52-4bda-9946-838333f6f413"
   },
   "outputs": [],
   "source": [
    "pred_f1_scores"
   ]
  },
  {
   "cell_type": "code",
   "execution_count": null,
   "metadata": {
    "colab": {
     "base_uri": "https://localhost:8080/"
    },
    "id": "hzg6pRhOgm07",
    "outputId": "79815150-324c-464a-b336-fe1169cd8963"
   },
   "outputs": [],
   "source": [
    "pred_rmse"
   ]
  },
  {
   "cell_type": "markdown",
   "metadata": {
    "id": "bcgKZJ5peP-h"
   },
   "source": [
    "### Model Creation and Prediction"
   ]
  },
  {
   "cell_type": "code",
   "execution_count": null,
   "metadata": {
    "colab": {
     "base_uri": "https://localhost:8080/"
    },
    "id": "MKg1Zpd3hqzk",
    "outputId": "3958b022-db33-4393-accf-4c93b62f459e"
   },
   "outputs": [
    {
     "name": "stdout",
     "output_type": "stream",
     "text": [
      "Accuracy score: 0.9965729250851654\n",
      "F1 score: 0.9909046258028864\n",
      "RMSE:  0.1232129472458101\n",
      "              precision    recall  f1-score   support\n",
      "\n",
      "           1       1.00      1.00      1.00     11777\n",
      "           2       1.00      1.00      1.00      1095\n",
      "           3       1.00      1.00      1.00     22738\n",
      "           4       1.00      1.00      1.00     22229\n",
      "           5       0.99      0.99      0.99     14054\n",
      "           6       1.00      1.00      1.00     25526\n",
      "           7       0.95      0.97      0.96       332\n",
      "\n",
      "    accuracy                           1.00     97751\n",
      "   macro avg       0.99      0.99      0.99     97751\n",
      "weighted avg       1.00      1.00      1.00     97751\n",
      "\n"
     ]
    }
   ],
   "source": [
    "etc = ExtraTreesClassifier(n_estimators=100, n_jobs=3, class_weight=\"balanced\", criterion='entropy', random_state=42)\n",
    "etc.fit(X_train, y_train)\n",
    "etc_pred = etc.predict(X_test)\n",
    "\n",
    "print('Accuracy score:', accuracy_score(y_test, etc_pred))\n",
    "print('F1 score:',f1_score(y_test, etc_pred, average='macro'))\n",
    "print('RMSE: ', np.math.sqrt(mean_squared_error(y_test, etc_pred)))\n",
    "print(classification_report(y_test, etc_pred))"
   ]
  },
  {
   "cell_type": "code",
   "execution_count": null,
   "metadata": {
    "colab": {
     "base_uri": "https://localhost:8080/",
     "height": 621
    },
    "id": "9DQ6xXdDRuyo",
    "outputId": "f77ec56f-8be7-4cfe-cadd-48b71f24e4b0"
   },
   "outputs": [
    {
     "data": {
      "image/png": "[encoded data removed]",
      "text/plain": [
       "<Figure size 864x720 with 2 Axes>"
      ]
     },
     "metadata": {
      "needs_background": "light",
      "tags": []
     },
     "output_type": "display_data"
    }
   ],
   "source": [
    "from sklearn.metrics import confusion_matrix\n",
    "\n",
    "fig, ax = plt.subplots(figsize=(12, 10))\n",
    "cm = confusion_matrix(y_test, etc_pred)\n",
    "sns.heatmap(cm, annot=True, ax = ax);\n",
    "ax.set_xlabel('Predicted labels')\n",
    "ax.set_ylabel('Actual labels')\n",
    "ax.set_title('Confusion Matrix') \n",
    "ax.xaxis.set_ticklabels(['corn', 'pea', 'canola', 'soy', 'oat', 'wheat', 'broadleaf']) \n",
    "ax.yaxis.set_ticklabels(['corn', 'pea', 'canola', 'soy', 'oat', 'wheat', 'broadleaf'])\n",
    "plt.show()"
   ]
  },
  {
   "cell_type": "markdown",
   "metadata": {
    "id": "tL4qlR_BhImq"
   },
   "source": [
    "### Model Validation"
   ]
  },
  {
   "cell_type": "code",
   "execution_count": null,
   "metadata": {
    "id": "3lhiktK3vvji"
   },
   "outputs": [],
   "source": [
    "from sklearn.model_selection import StratifiedKFold\n",
    "from sklearn.model_selection import RepeatedStratifiedKFold\n",
    "from sklearn.model_selection import GridSearchCV\n",
    "from sklearn.model_selection import cross_val_score"
   ]
  },
  {
   "cell_type": "code",
   "execution_count": null,
   "metadata": {
    "id": "VzyxQCg1kdiw"
   },
   "outputs": [],
   "source": [
    "# Cross Validation approach\n",
    "etc = ExtraTreesClassifier(n_estimators=100, n_jobs=3, class_weight=\"balanced\", criterion='entropy', random_state=42)\n",
    "\n",
    "#cv = StratifiedKFold(n_splits=10, shuffle=False, random_state=42)\n",
    "cv = RepeatedStratifiedKFold(n_splits=10, n_repeats=3, random_state=42)\n",
    "     \n",
    "accuracy_score = np.mean(cross_val_score(etc, X_train, y_train, scoring='accuracy', cv=cv, n_jobs=-1))\n",
    "f1_score = np.mean(cross_val_score(etc, X_train, y_train, scoring='f1_macro', cv=cv, n_jobs=-1))"
   ]
  },
  {
   "cell_type": "code",
   "execution_count": null,
   "metadata": {
    "colab": {
     "base_uri": "https://localhost:8080/"
    },
    "id": "tHIusieUE-Np",
    "outputId": "82c13330-3f2e-4d6f-95ca-31937ee36cd4"
   },
   "outputs": [
    {
     "name": "stdout",
     "output_type": "stream",
     "text": [
      "mean Accuracy measured by cross validation:  0.9966518027386543\n",
      "mean F1-score measured by cross validation:  0.9930183150801141\n"
     ]
    }
   ],
   "source": [
    "print('mean Accuracy measured by cross validation: ', accuracy_score)\n",
    "print('mean F1-score measured by cross validation: ', f1_score)"
   ]
  }
 ],
 "metadata": {
  "accelerator": "GPU",
  "colab": {
   "collapsed_sections": [],
   "machine_shape": "hm",
   "name": "CMPE255_CropMapping_ver2.ipynb",
   "provenance": [],
   "toc_visible": true
  },
  "kernelspec": {
   "display_name": "Python 3",
   "language": "python",
   "name": "python3"
  },
  "language_info": {
   "codemirror_mode": {
    "name": "ipython",
    "version": 3
   },
   "file_extension": ".py",
   "mimetype": "text/x-python",
   "name": "python",
   "nbconvert_exporter": "python",
   "pygments_lexer": "ipython3",
   "version": "3.9.0"
  }
 },
 "nbformat": 4,
 "nbformat_minor": 1
}
